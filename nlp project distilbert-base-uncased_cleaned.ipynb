{
  "nbformat": 4,
  "nbformat_minor": 0,
  "metadata": {
    "colab": {
      "provenance": [],
      "gpuType": "L4",
      "collapsed_sections": [
        "9C7KjCt-y6Mf",
        "LuGFb8lyy_hJ"
      ],
      "authorship_tag": "ABX9TyN8MOH3vmhT5Vl+QWNZpzGm"
    },
    "kernelspec": {
      "name": "python3",
      "display_name": "Python 3"
    },
    "language_info": {
      "name": "python"
    },
    "accelerator": "GPU"
  },
  "cells": [
    {
      "cell_type": "markdown",
      "source": [
        "# Installing libraries"
      ],
      "metadata": {
        "id": "D_dAOHEXe7DT"
      }
    },
    {
      "cell_type": "code",
      "source": [
        "!pip uninstall -y transformers\n",
        "!pip cache purge\n",
        "!rm -rf /usr/local/lib/python*/dist-packages/transformers"
      ],
      "metadata": {
        "colab": {
          "base_uri": "https://localhost:8080/"
        },
        "id": "Jb7iZo2U4BhL",
        "executionInfo": {
          "status": "ok",
          "timestamp": 1748167102855,
          "user_tz": -180,
          "elapsed": 1995,
          "user": {
            "displayName": "vivian lauren",
            "userId": "06741933639622670164"
          }
        },
        "outputId": "77cf8e8e-c6c1-4257-b018-2f5248f40fe4"
      },
      "execution_count": null,
      "outputs": [
        {
          "output_type": "stream",
          "name": "stdout",
          "text": [
            "Found existing installation: transformers 4.41.2\n",
            "Uninstalling transformers-4.41.2:\n",
            "  Successfully uninstalled transformers-4.41.2\n",
            "Files removed: 194\n"
          ]
        }
      ]
    },
    {
      "cell_type": "code",
      "execution_count": null,
      "metadata": {
        "id": "_RMoxThcxhB4"
      },
      "outputs": [],
      "source": [
        "# !pip install transformers datasets accelerate"
      ]
    },
    {
      "cell_type": "code",
      "source": [
        "!pip install transformers==4.37.2 PEFT==0.10.0"
      ],
      "metadata": {
        "colab": {
          "base_uri": "https://localhost:8080/"
        },
        "id": "2pmufwhg0LRZ",
        "executionInfo": {
          "status": "ok",
          "timestamp": 1748649299657,
          "user_tz": -180,
          "elapsed": 81340,
          "user": {
            "displayName": "vivian lauren",
            "userId": "06741933639622670164"
          }
        },
        "outputId": "0fdf87d3-1b4d-486f-e703-71ffa6fd0cab"
      },
      "execution_count": 1,
      "outputs": [
        {
          "output_type": "stream",
          "name": "stdout",
          "text": [
            "Collecting transformers==4.37.2\n",
            "  Downloading transformers-4.37.2-py3-none-any.whl.metadata (129 kB)\n",
            "\u001b[?25l     \u001b[90m\u2501\u2501\u2501\u2501\u2501\u2501\u2501\u2501\u2501\u2501\u2501\u2501\u2501\u2501\u2501\u2501\u2501\u2501\u2501\u2501\u2501\u2501\u2501\u2501\u2501\u2501\u2501\u2501\u2501\u2501\u2501\u2501\u2501\u2501\u2501\u2501\u2501\u2501\u2501\u2501\u001b[0m \u001b[32m0.0/129.4 kB\u001b[0m \u001b[31m?\u001b[0m eta \u001b[36m-:--:--\u001b[0m\r\u001b[2K     \u001b[90m\u2501\u2501\u2501\u2501\u2501\u2501\u2501\u2501\u2501\u2501\u2501\u2501\u2501\u2501\u2501\u2501\u2501\u2501\u2501\u2501\u2501\u2501\u2501\u2501\u2501\u2501\u2501\u2501\u2501\u2501\u2501\u2501\u2501\u2501\u2501\u2501\u2501\u2501\u2501\u001b[0m \u001b[32m129.4/129.4 kB\u001b[0m \u001b[31m4.1 MB/s\u001b[0m eta \u001b[36m0:00:00\u001b[0m\n",
            "\u001b[?25hCollecting PEFT==0.10.0\n",
            "  Downloading peft-0.10.0-py3-none-any.whl.metadata (13 kB)\n",
            "Requirement already satisfied: filelock in /usr/local/lib/python3.11/dist-packages (from transformers==4.37.2) (3.18.0)\n",
            "Requirement already satisfied: huggingface-hub<1.0,>=0.19.3 in /usr/local/lib/python3.11/dist-packages (from transformers==4.37.2) (0.31.4)\n",
            "Requirement already satisfied: numpy>=1.17 in /usr/local/lib/python3.11/dist-packages (from transformers==4.37.2) (2.0.2)\n",
            "Requirement already satisfied: packaging>=20.0 in /usr/local/lib/python3.11/dist-packages (from transformers==4.37.2) (24.2)\n",
            "Requirement already satisfied: pyyaml>=5.1 in /usr/local/lib/python3.11/dist-packages (from transformers==4.37.2) (6.0.2)\n",
            "Requirement already satisfied: regex!=2019.12.17 in /usr/local/lib/python3.11/dist-packages (from transformers==4.37.2) (2024.11.6)\n",
            "Requirement already satisfied: requests in /usr/local/lib/python3.11/dist-packages (from transformers==4.37.2) (2.32.3)\n",
            "Collecting tokenizers<0.19,>=0.14 (from transformers==4.37.2)\n",
            "  Downloading tokenizers-0.15.2-cp311-cp311-manylinux_2_17_x86_64.manylinux2014_x86_64.whl.metadata (6.7 kB)\n",
            "Requirement already satisfied: safetensors>=0.4.1 in /usr/local/lib/python3.11/dist-packages (from transformers==4.37.2) (0.5.3)\n",
            "Requirement already satisfied: tqdm>=4.27 in /usr/local/lib/python3.11/dist-packages (from transformers==4.37.2) (4.67.1)\n",
            "Requirement already satisfied: psutil in /usr/local/lib/python3.11/dist-packages (from PEFT==0.10.0) (5.9.5)\n",
            "Requirement already satisfied: torch>=1.13.0 in /usr/local/lib/python3.11/dist-packages (from PEFT==0.10.0) (2.6.0+cu124)\n",
            "Requirement already satisfied: accelerate>=0.21.0 in /usr/local/lib/python3.11/dist-packages (from PEFT==0.10.0) (1.7.0)\n",
            "Requirement already satisfied: fsspec>=2023.5.0 in /usr/local/lib/python3.11/dist-packages (from huggingface-hub<1.0,>=0.19.3->transformers==4.37.2) (2025.3.2)\n",
            "Requirement already satisfied: typing-extensions>=3.7.4.3 in /usr/local/lib/python3.11/dist-packages (from huggingface-hub<1.0,>=0.19.3->transformers==4.37.2) (4.13.2)\n",
            "Requirement already satisfied: networkx in /usr/local/lib/python3.11/dist-packages (from torch>=1.13.0->PEFT==0.10.0) (3.4.2)\n",
            "Requirement already satisfied: jinja2 in /usr/local/lib/python3.11/dist-packages (from torch>=1.13.0->PEFT==0.10.0) (3.1.6)\n",
            "Collecting nvidia-cuda-nvrtc-cu12==12.4.127 (from torch>=1.13.0->PEFT==0.10.0)\n",
            "  Downloading nvidia_cuda_nvrtc_cu12-12.4.127-py3-none-manylinux2014_x86_64.whl.metadata (1.5 kB)\n",
            "Collecting nvidia-cuda-runtime-cu12==12.4.127 (from torch>=1.13.0->PEFT==0.10.0)\n",
            "  Downloading nvidia_cuda_runtime_cu12-12.4.127-py3-none-manylinux2014_x86_64.whl.metadata (1.5 kB)\n",
            "Collecting nvidia-cuda-cupti-cu12==12.4.127 (from torch>=1.13.0->PEFT==0.10.0)\n",
            "  Downloading nvidia_cuda_cupti_cu12-12.4.127-py3-none-manylinux2014_x86_64.whl.metadata (1.6 kB)\n",
            "Collecting nvidia-cudnn-cu12==9.1.0.70 (from torch>=1.13.0->PEFT==0.10.0)\n",
            "  Downloading nvidia_cudnn_cu12-9.1.0.70-py3-none-manylinux2014_x86_64.whl.metadata (1.6 kB)\n",
            "Collecting nvidia-cublas-cu12==12.4.5.8 (from torch>=1.13.0->PEFT==0.10.0)\n",
            "  Downloading nvidia_cublas_cu12-12.4.5.8-py3-none-manylinux2014_x86_64.whl.metadata (1.5 kB)\n",
            "Collecting nvidia-cufft-cu12==11.2.1.3 (from torch>=1.13.0->PEFT==0.10.0)\n",
            "  Downloading nvidia_cufft_cu12-11.2.1.3-py3-none-manylinux2014_x86_64.whl.metadata (1.5 kB)\n",
            "Collecting nvidia-curand-cu12==10.3.5.147 (from torch>=1.13.0->PEFT==0.10.0)\n",
            "  Downloading nvidia_curand_cu12-10.3.5.147-py3-none-manylinux2014_x86_64.whl.metadata (1.5 kB)\n",
            "Collecting nvidia-cusolver-cu12==11.6.1.9 (from torch>=1.13.0->PEFT==0.10.0)\n",
            "  Downloading nvidia_cusolver_cu12-11.6.1.9-py3-none-manylinux2014_x86_64.whl.metadata (1.6 kB)\n",
            "Collecting nvidia-cusparse-cu12==12.3.1.170 (from torch>=1.13.0->PEFT==0.10.0)\n",
            "  Downloading nvidia_cusparse_cu12-12.3.1.170-py3-none-manylinux2014_x86_64.whl.metadata (1.6 kB)\n",
            "Requirement already satisfied: nvidia-cusparselt-cu12==0.6.2 in /usr/local/lib/python3.11/dist-packages (from torch>=1.13.0->PEFT==0.10.0) (0.6.2)\n",
            "Requirement already satisfied: nvidia-nccl-cu12==2.21.5 in /usr/local/lib/python3.11/dist-packages (from torch>=1.13.0->PEFT==0.10.0) (2.21.5)\n",
            "Requirement already satisfied: nvidia-nvtx-cu12==12.4.127 in /usr/local/lib/python3.11/dist-packages (from torch>=1.13.0->PEFT==0.10.0) (12.4.127)\n",
            "Collecting nvidia-nvjitlink-cu12==12.4.127 (from torch>=1.13.0->PEFT==0.10.0)\n",
            "  Downloading nvidia_nvjitlink_cu12-12.4.127-py3-none-manylinux2014_x86_64.whl.metadata (1.5 kB)\n",
            "Requirement already satisfied: triton==3.2.0 in /usr/local/lib/python3.11/dist-packages (from torch>=1.13.0->PEFT==0.10.0) (3.2.0)\n",
            "Requirement already satisfied: sympy==1.13.1 in /usr/local/lib/python3.11/dist-packages (from torch>=1.13.0->PEFT==0.10.0) (1.13.1)\n",
            "Requirement already satisfied: mpmath<1.4,>=1.1.0 in /usr/local/lib/python3.11/dist-packages (from sympy==1.13.1->torch>=1.13.0->PEFT==0.10.0) (1.3.0)\n",
            "Requirement already satisfied: charset-normalizer<4,>=2 in /usr/local/lib/python3.11/dist-packages (from requests->transformers==4.37.2) (3.4.2)\n",
            "Requirement already satisfied: idna<4,>=2.5 in /usr/local/lib/python3.11/dist-packages (from requests->transformers==4.37.2) (3.10)\n",
            "Requirement already satisfied: urllib3<3,>=1.21.1 in /usr/local/lib/python3.11/dist-packages (from requests->transformers==4.37.2) (2.4.0)\n",
            "Requirement already satisfied: certifi>=2017.4.17 in /usr/local/lib/python3.11/dist-packages (from requests->transformers==4.37.2) (2025.4.26)\n",
            "Requirement already satisfied: MarkupSafe>=2.0 in /usr/local/lib/python3.11/dist-packages (from jinja2->torch>=1.13.0->PEFT==0.10.0) (3.0.2)\n",
            "Downloading transformers-4.37.2-py3-none-any.whl (8.4 MB)\n",
            "\u001b[2K   \u001b[90m\u2501\u2501\u2501\u2501\u2501\u2501\u2501\u2501\u2501\u2501\u2501\u2501\u2501\u2501\u2501\u2501\u2501\u2501\u2501\u2501\u2501\u2501\u2501\u2501\u2501\u2501\u2501\u2501\u2501\u2501\u2501\u2501\u2501\u2501\u2501\u2501\u2501\u2501\u2501\u2501\u001b[0m \u001b[32m8.4/8.4 MB\u001b[0m \u001b[31m37.8 MB/s\u001b[0m eta \u001b[36m0:00:00\u001b[0m\n",
            "\u001b[?25hDownloading peft-0.10.0-py3-none-any.whl (199 kB)\n",
            "\u001b[2K   \u001b[90m\u2501\u2501\u2501\u2501\u2501\u2501\u2501\u2501\u2501\u2501\u2501\u2501\u2501\u2501\u2501\u2501\u2501\u2501\u2501\u2501\u2501\u2501\u2501\u2501\u2501\u2501\u2501\u2501\u2501\u2501\u2501\u2501\u2501\u2501\u2501\u2501\u2501\u2501\u2501\u2501\u001b[0m \u001b[32m199.1/199.1 kB\u001b[0m \u001b[31m12.5 MB/s\u001b[0m eta \u001b[36m0:00:00\u001b[0m\n",
            "\u001b[?25hDownloading tokenizers-0.15.2-cp311-cp311-manylinux_2_17_x86_64.manylinux2014_x86_64.whl (3.6 MB)\n",
            "\u001b[2K   \u001b[90m\u2501\u2501\u2501\u2501\u2501\u2501\u2501\u2501\u2501\u2501\u2501\u2501\u2501\u2501\u2501\u2501\u2501\u2501\u2501\u2501\u2501\u2501\u2501\u2501\u2501\u2501\u2501\u2501\u2501\u2501\u2501\u2501\u2501\u2501\u2501\u2501\u2501\u2501\u2501\u2501\u001b[0m \u001b[32m3.6/3.6 MB\u001b[0m \u001b[31m99.5 MB/s\u001b[0m eta \u001b[36m0:00:00\u001b[0m\n",
            "\u001b[?25hDownloading nvidia_cublas_cu12-12.4.5.8-py3-none-manylinux2014_x86_64.whl (363.4 MB)\n",
            "\u001b[2K   \u001b[90m\u2501\u2501\u2501\u2501\u2501\u2501\u2501\u2501\u2501\u2501\u2501\u2501\u2501\u2501\u2501\u2501\u2501\u2501\u2501\u2501\u2501\u2501\u2501\u2501\u2501\u2501\u2501\u2501\u2501\u2501\u2501\u2501\u2501\u2501\u2501\u2501\u2501\u2501\u2501\u2501\u001b[0m \u001b[32m363.4/363.4 MB\u001b[0m \u001b[31m2.7 MB/s\u001b[0m eta \u001b[36m0:00:00\u001b[0m\n",
            "\u001b[?25hDownloading nvidia_cuda_cupti_cu12-12.4.127-py3-none-manylinux2014_x86_64.whl (13.8 MB)\n",
            "\u001b[2K   \u001b[90m\u2501\u2501\u2501\u2501\u2501\u2501\u2501\u2501\u2501\u2501\u2501\u2501\u2501\u2501\u2501\u2501\u2501\u2501\u2501\u2501\u2501\u2501\u2501\u2501\u2501\u2501\u2501\u2501\u2501\u2501\u2501\u2501\u2501\u2501\u2501\u2501\u2501\u2501\u2501\u2501\u001b[0m \u001b[32m13.8/13.8 MB\u001b[0m \u001b[31m111.4 MB/s\u001b[0m eta \u001b[36m0:00:00\u001b[0m\n",
            "\u001b[?25hDownloading nvidia_cuda_nvrtc_cu12-12.4.127-py3-none-manylinux2014_x86_64.whl (24.6 MB)\n",
            "\u001b[2K   \u001b[90m\u2501\u2501\u2501\u2501\u2501\u2501\u2501\u2501\u2501\u2501\u2501\u2501\u2501\u2501\u2501\u2501\u2501\u2501\u2501\u2501\u2501\u2501\u2501\u2501\u2501\u2501\u2501\u2501\u2501\u2501\u2501\u2501\u2501\u2501\u2501\u2501\u2501\u2501\u2501\u2501\u001b[0m \u001b[32m24.6/24.6 MB\u001b[0m \u001b[31m89.9 MB/s\u001b[0m eta \u001b[36m0:00:00\u001b[0m\n",
            "\u001b[?25hDownloading nvidia_cuda_runtime_cu12-12.4.127-py3-none-manylinux2014_x86_64.whl (883 kB)\n",
            "\u001b[2K   \u001b[90m\u2501\u2501\u2501\u2501\u2501\u2501\u2501\u2501\u2501\u2501\u2501\u2501\u2501\u2501\u2501\u2501\u2501\u2501\u2501\u2501\u2501\u2501\u2501\u2501\u2501\u2501\u2501\u2501\u2501\u2501\u2501\u2501\u2501\u2501\u2501\u2501\u2501\u2501\u2501\u2501\u001b[0m \u001b[32m883.7/883.7 kB\u001b[0m \u001b[31m65.8 MB/s\u001b[0m eta \u001b[36m0:00:00\u001b[0m\n",
            "\u001b[?25hDownloading nvidia_cudnn_cu12-9.1.0.70-py3-none-manylinux2014_x86_64.whl (664.8 MB)\n",
            "\u001b[2K   \u001b[90m\u2501\u2501\u2501\u2501\u2501\u2501\u2501\u2501\u2501\u2501\u2501\u2501\u2501\u2501\u2501\u2501\u2501\u2501\u2501\u2501\u2501\u2501\u2501\u2501\u2501\u2501\u2501\u2501\u2501\u2501\u2501\u2501\u2501\u2501\u2501\u2501\u2501\u2501\u2501\u2501\u001b[0m \u001b[32m664.8/664.8 MB\u001b[0m \u001b[31m1.7 MB/s\u001b[0m eta \u001b[36m0:00:00\u001b[0m\n",
            "\u001b[?25hDownloading nvidia_cufft_cu12-11.2.1.3-py3-none-manylinux2014_x86_64.whl (211.5 MB)\n",
            "\u001b[2K   \u001b[90m\u2501\u2501\u2501\u2501\u2501\u2501\u2501\u2501\u2501\u2501\u2501\u2501\u2501\u2501\u2501\u2501\u2501\u2501\u2501\u2501\u2501\u2501\u2501\u2501\u2501\u2501\u2501\u2501\u2501\u2501\u2501\u2501\u2501\u2501\u2501\u2501\u2501\u2501\u2501\u2501\u001b[0m \u001b[32m211.5/211.5 MB\u001b[0m \u001b[31m4.1 MB/s\u001b[0m eta \u001b[36m0:00:00\u001b[0m\n",
            "\u001b[?25hDownloading nvidia_curand_cu12-10.3.5.147-py3-none-manylinux2014_x86_64.whl (56.3 MB)\n",
            "\u001b[2K   \u001b[90m\u2501\u2501\u2501\u2501\u2501\u2501\u2501\u2501\u2501\u2501\u2501\u2501\u2501\u2501\u2501\u2501\u2501\u2501\u2501\u2501\u2501\u2501\u2501\u2501\u2501\u2501\u2501\u2501\u2501\u2501\u2501\u2501\u2501\u2501\u2501\u2501\u2501\u2501\u2501\u2501\u001b[0m \u001b[32m56.3/56.3 MB\u001b[0m \u001b[31m38.5 MB/s\u001b[0m eta \u001b[36m0:00:00\u001b[0m\n",
            "\u001b[?25hDownloading nvidia_cusolver_cu12-11.6.1.9-py3-none-manylinux2014_x86_64.whl (127.9 MB)\n",
            "\u001b[2K   \u001b[90m\u2501\u2501\u2501\u2501\u2501\u2501\u2501\u2501\u2501\u2501\u2501\u2501\u2501\u2501\u2501\u2501\u2501\u2501\u2501\u2501\u2501\u2501\u2501\u2501\u2501\u2501\u2501\u2501\u2501\u2501\u2501\u2501\u2501\u2501\u2501\u2501\u2501\u2501\u2501\u2501\u001b[0m \u001b[32m127.9/127.9 MB\u001b[0m \u001b[31m17.7 MB/s\u001b[0m eta \u001b[36m0:00:00\u001b[0m\n",
            "\u001b[?25hDownloading nvidia_cusparse_cu12-12.3.1.170-py3-none-manylinux2014_x86_64.whl (207.5 MB)\n",
            "\u001b[2K   \u001b[90m\u2501\u2501\u2501\u2501\u2501\u2501\u2501\u2501\u2501\u2501\u2501\u2501\u2501\u2501\u2501\u2501\u2501\u2501\u2501\u2501\u2501\u2501\u2501\u2501\u2501\u2501\u2501\u2501\u2501\u2501\u2501\u2501\u2501\u2501\u2501\u2501\u2501\u2501\u2501\u2501\u001b[0m \u001b[32m207.5/207.5 MB\u001b[0m \u001b[31m3.5 MB/s\u001b[0m eta \u001b[36m0:00:00\u001b[0m\n",
            "\u001b[?25hDownloading nvidia_nvjitlink_cu12-12.4.127-py3-none-manylinux2014_x86_64.whl (21.1 MB)\n",
            "\u001b[2K   \u001b[90m\u2501\u2501\u2501\u2501\u2501\u2501\u2501\u2501\u2501\u2501\u2501\u2501\u2501\u2501\u2501\u2501\u2501\u2501\u2501\u2501\u2501\u2501\u2501\u2501\u2501\u2501\u2501\u2501\u2501\u2501\u2501\u2501\u2501\u2501\u2501\u2501\u2501\u2501\u2501\u2501\u001b[0m \u001b[32m21.1/21.1 MB\u001b[0m \u001b[31m113.8 MB/s\u001b[0m eta \u001b[36m0:00:00\u001b[0m\n",
            "\u001b[?25hInstalling collected packages: nvidia-nvjitlink-cu12, nvidia-curand-cu12, nvidia-cufft-cu12, nvidia-cuda-runtime-cu12, nvidia-cuda-nvrtc-cu12, nvidia-cuda-cupti-cu12, nvidia-cublas-cu12, nvidia-cusparse-cu12, nvidia-cudnn-cu12, tokenizers, nvidia-cusolver-cu12, transformers, PEFT\n",
            "  Attempting uninstall: nvidia-nvjitlink-cu12\n",
            "    Found existing installation: nvidia-nvjitlink-cu12 12.5.82\n",
            "    Uninstalling nvidia-nvjitlink-cu12-12.5.82:\n",
            "      Successfully uninstalled nvidia-nvjitlink-cu12-12.5.82\n",
            "  Attempting uninstall: nvidia-curand-cu12\n",
            "    Found existing installation: nvidia-curand-cu12 10.3.6.82\n",
            "    Uninstalling nvidia-curand-cu12-10.3.6.82:\n",
            "      Successfully uninstalled nvidia-curand-cu12-10.3.6.82\n",
            "  Attempting uninstall: nvidia-cufft-cu12\n",
            "    Found existing installation: nvidia-cufft-cu12 11.2.3.61\n",
            "    Uninstalling nvidia-cufft-cu12-11.2.3.61:\n",
            "      Successfully uninstalled nvidia-cufft-cu12-11.2.3.61\n",
            "  Attempting uninstall: nvidia-cuda-runtime-cu12\n",
            "    Found existing installation: nvidia-cuda-runtime-cu12 12.5.82\n",
            "    Uninstalling nvidia-cuda-runtime-cu12-12.5.82:\n",
            "      Successfully uninstalled nvidia-cuda-runtime-cu12-12.5.82\n",
            "  Attempting uninstall: nvidia-cuda-nvrtc-cu12\n",
            "    Found existing installation: nvidia-cuda-nvrtc-cu12 12.5.82\n",
            "    Uninstalling nvidia-cuda-nvrtc-cu12-12.5.82:\n",
            "      Successfully uninstalled nvidia-cuda-nvrtc-cu12-12.5.82\n",
            "  Attempting uninstall: nvidia-cuda-cupti-cu12\n",
            "    Found existing installation: nvidia-cuda-cupti-cu12 12.5.82\n",
            "    Uninstalling nvidia-cuda-cupti-cu12-12.5.82:\n",
            "      Successfully uninstalled nvidia-cuda-cupti-cu12-12.5.82\n",
            "  Attempting uninstall: nvidia-cublas-cu12\n",
            "    Found existing installation: nvidia-cublas-cu12 12.5.3.2\n",
            "    Uninstalling nvidia-cublas-cu12-12.5.3.2:\n",
            "      Successfully uninstalled nvidia-cublas-cu12-12.5.3.2\n",
            "  Attempting uninstall: nvidia-cusparse-cu12\n",
            "    Found existing installation: nvidia-cusparse-cu12 12.5.1.3\n",
            "    Uninstalling nvidia-cusparse-cu12-12.5.1.3:\n",
            "      Successfully uninstalled nvidia-cusparse-cu12-12.5.1.3\n",
            "  Attempting uninstall: nvidia-cudnn-cu12\n",
            "    Found existing installation: nvidia-cudnn-cu12 9.3.0.75\n",
            "    Uninstalling nvidia-cudnn-cu12-9.3.0.75:\n",
            "      Successfully uninstalled nvidia-cudnn-cu12-9.3.0.75\n",
            "  Attempting uninstall: tokenizers\n",
            "    Found existing installation: tokenizers 0.21.1\n",
            "    Uninstalling tokenizers-0.21.1:\n",
            "      Successfully uninstalled tokenizers-0.21.1\n",
            "  Attempting uninstall: nvidia-cusolver-cu12\n",
            "    Found existing installation: nvidia-cusolver-cu12 11.6.3.83\n",
            "    Uninstalling nvidia-cusolver-cu12-11.6.3.83:\n",
            "      Successfully uninstalled nvidia-cusolver-cu12-11.6.3.83\n",
            "  Attempting uninstall: transformers\n",
            "    Found existing installation: transformers 4.52.2\n",
            "    Uninstalling transformers-4.52.2:\n",
            "      Successfully uninstalled transformers-4.52.2\n",
            "  Attempting uninstall: PEFT\n",
            "    Found existing installation: peft 0.15.2\n",
            "    Uninstalling peft-0.15.2:\n",
            "      Successfully uninstalled peft-0.15.2\n",
            "\u001b[31mERROR: pip's dependency resolver does not currently take into account all the packages that are installed. This behaviour is the source of the following dependency conflicts.\n",
            "sentence-transformers 4.1.0 requires transformers<5.0.0,>=4.41.0, but you have transformers 4.37.2 which is incompatible.\u001b[0m\u001b[31m\n",
            "\u001b[0mSuccessfully installed PEFT-0.10.0 nvidia-cublas-cu12-12.4.5.8 nvidia-cuda-cupti-cu12-12.4.127 nvidia-cuda-nvrtc-cu12-12.4.127 nvidia-cuda-runtime-cu12-12.4.127 nvidia-cudnn-cu12-9.1.0.70 nvidia-cufft-cu12-11.2.1.3 nvidia-curand-cu12-10.3.5.147 nvidia-cusolver-cu12-11.6.1.9 nvidia-cusparse-cu12-12.3.1.170 nvidia-nvjitlink-cu12-12.4.127 tokenizers-0.15.2 transformers-4.37.2\n"
          ]
        }
      ]
    },
    {
      "cell_type": "code",
      "source": [
        "import transformers\n",
        "print(transformers.__version__)"
      ],
      "metadata": {
        "colab": {
          "base_uri": "https://localhost:8080/"
        },
        "id": "75pKniB61JsY",
        "executionInfo": {
          "status": "ok",
          "timestamp": 1748649330384,
          "user_tz": -180,
          "elapsed": 3539,
          "user": {
            "displayName": "vivian lauren",
            "userId": "06741933639622670164"
          }
        },
        "outputId": "767eb834-133d-4146-c760-a2882b92e3f9"
      },
      "execution_count": 2,
      "outputs": [
        {
          "output_type": "stream",
          "name": "stdout",
          "text": [
            "4.37.2\n"
          ]
        }
      ]
    },
    {
      "cell_type": "code",
      "source": [
        "!pip install accelerate==0.27.2"
      ],
      "metadata": {
        "colab": {
          "base_uri": "https://localhost:8080/"
        },
        "id": "ZilLC1QD6i9g",
        "executionInfo": {
          "status": "ok",
          "timestamp": 1748649336234,
          "user_tz": -180,
          "elapsed": 3015,
          "user": {
            "displayName": "vivian lauren",
            "userId": "06741933639622670164"
          }
        },
        "outputId": "48c8ae45-2821-4329-c789-f3007b4c55c4"
      },
      "execution_count": 3,
      "outputs": [
        {
          "output_type": "stream",
          "name": "stdout",
          "text": [
            "Collecting accelerate==0.27.2\n",
            "  Downloading accelerate-0.27.2-py3-none-any.whl.metadata (18 kB)\n",
            "Requirement already satisfied: numpy>=1.17 in /usr/local/lib/python3.11/dist-packages (from accelerate==0.27.2) (2.0.2)\n",
            "Requirement already satisfied: packaging>=20.0 in /usr/local/lib/python3.11/dist-packages (from accelerate==0.27.2) (24.2)\n",
            "Requirement already satisfied: psutil in /usr/local/lib/python3.11/dist-packages (from accelerate==0.27.2) (5.9.5)\n",
            "Requirement already satisfied: pyyaml in /usr/local/lib/python3.11/dist-packages (from accelerate==0.27.2) (6.0.2)\n",
            "Requirement already satisfied: torch>=1.10.0 in /usr/local/lib/python3.11/dist-packages (from accelerate==0.27.2) (2.6.0+cu124)\n",
            "Requirement already satisfied: huggingface-hub in /usr/local/lib/python3.11/dist-packages (from accelerate==0.27.2) (0.31.4)\n",
            "Requirement already satisfied: safetensors>=0.3.1 in /usr/local/lib/python3.11/dist-packages (from accelerate==0.27.2) (0.5.3)\n",
            "Requirement already satisfied: filelock in /usr/local/lib/python3.11/dist-packages (from torch>=1.10.0->accelerate==0.27.2) (3.18.0)\n",
            "Requirement already satisfied: typing-extensions>=4.10.0 in /usr/local/lib/python3.11/dist-packages (from torch>=1.10.0->accelerate==0.27.2) (4.13.2)\n",
            "Requirement already satisfied: networkx in /usr/local/lib/python3.11/dist-packages (from torch>=1.10.0->accelerate==0.27.2) (3.4.2)\n",
            "Requirement already satisfied: jinja2 in /usr/local/lib/python3.11/dist-packages (from torch>=1.10.0->accelerate==0.27.2) (3.1.6)\n",
            "Requirement already satisfied: fsspec in /usr/local/lib/python3.11/dist-packages (from torch>=1.10.0->accelerate==0.27.2) (2025.3.2)\n",
            "Requirement already satisfied: nvidia-cuda-nvrtc-cu12==12.4.127 in /usr/local/lib/python3.11/dist-packages (from torch>=1.10.0->accelerate==0.27.2) (12.4.127)\n",
            "Requirement already satisfied: nvidia-cuda-runtime-cu12==12.4.127 in /usr/local/lib/python3.11/dist-packages (from torch>=1.10.0->accelerate==0.27.2) (12.4.127)\n",
            "Requirement already satisfied: nvidia-cuda-cupti-cu12==12.4.127 in /usr/local/lib/python3.11/dist-packages (from torch>=1.10.0->accelerate==0.27.2) (12.4.127)\n",
            "Requirement already satisfied: nvidia-cudnn-cu12==9.1.0.70 in /usr/local/lib/python3.11/dist-packages (from torch>=1.10.0->accelerate==0.27.2) (9.1.0.70)\n",
            "Requirement already satisfied: nvidia-cublas-cu12==12.4.5.8 in /usr/local/lib/python3.11/dist-packages (from torch>=1.10.0->accelerate==0.27.2) (12.4.5.8)\n",
            "Requirement already satisfied: nvidia-cufft-cu12==11.2.1.3 in /usr/local/lib/python3.11/dist-packages (from torch>=1.10.0->accelerate==0.27.2) (11.2.1.3)\n",
            "Requirement already satisfied: nvidia-curand-cu12==10.3.5.147 in /usr/local/lib/python3.11/dist-packages (from torch>=1.10.0->accelerate==0.27.2) (10.3.5.147)\n",
            "Requirement already satisfied: nvidia-cusolver-cu12==11.6.1.9 in /usr/local/lib/python3.11/dist-packages (from torch>=1.10.0->accelerate==0.27.2) (11.6.1.9)\n",
            "Requirement already satisfied: nvidia-cusparse-cu12==12.3.1.170 in /usr/local/lib/python3.11/dist-packages (from torch>=1.10.0->accelerate==0.27.2) (12.3.1.170)\n",
            "Requirement already satisfied: nvidia-cusparselt-cu12==0.6.2 in /usr/local/lib/python3.11/dist-packages (from torch>=1.10.0->accelerate==0.27.2) (0.6.2)\n",
            "Requirement already satisfied: nvidia-nccl-cu12==2.21.5 in /usr/local/lib/python3.11/dist-packages (from torch>=1.10.0->accelerate==0.27.2) (2.21.5)\n",
            "Requirement already satisfied: nvidia-nvtx-cu12==12.4.127 in /usr/local/lib/python3.11/dist-packages (from torch>=1.10.0->accelerate==0.27.2) (12.4.127)\n",
            "Requirement already satisfied: nvidia-nvjitlink-cu12==12.4.127 in /usr/local/lib/python3.11/dist-packages (from torch>=1.10.0->accelerate==0.27.2) (12.4.127)\n",
            "Requirement already satisfied: triton==3.2.0 in /usr/local/lib/python3.11/dist-packages (from torch>=1.10.0->accelerate==0.27.2) (3.2.0)\n",
            "Requirement already satisfied: sympy==1.13.1 in /usr/local/lib/python3.11/dist-packages (from torch>=1.10.0->accelerate==0.27.2) (1.13.1)\n",
            "Requirement already satisfied: mpmath<1.4,>=1.1.0 in /usr/local/lib/python3.11/dist-packages (from sympy==1.13.1->torch>=1.10.0->accelerate==0.27.2) (1.3.0)\n",
            "Requirement already satisfied: requests in /usr/local/lib/python3.11/dist-packages (from huggingface-hub->accelerate==0.27.2) (2.32.3)\n",
            "Requirement already satisfied: tqdm>=4.42.1 in /usr/local/lib/python3.11/dist-packages (from huggingface-hub->accelerate==0.27.2) (4.67.1)\n",
            "Requirement already satisfied: MarkupSafe>=2.0 in /usr/local/lib/python3.11/dist-packages (from jinja2->torch>=1.10.0->accelerate==0.27.2) (3.0.2)\n",
            "Requirement already satisfied: charset-normalizer<4,>=2 in /usr/local/lib/python3.11/dist-packages (from requests->huggingface-hub->accelerate==0.27.2) (3.4.2)\n",
            "Requirement already satisfied: idna<4,>=2.5 in /usr/local/lib/python3.11/dist-packages (from requests->huggingface-hub->accelerate==0.27.2) (3.10)\n",
            "Requirement already satisfied: urllib3<3,>=1.21.1 in /usr/local/lib/python3.11/dist-packages (from requests->huggingface-hub->accelerate==0.27.2) (2.4.0)\n",
            "Requirement already satisfied: certifi>=2017.4.17 in /usr/local/lib/python3.11/dist-packages (from requests->huggingface-hub->accelerate==0.27.2) (2025.4.26)\n",
            "Downloading accelerate-0.27.2-py3-none-any.whl (279 kB)\n",
            "\u001b[2K   \u001b[90m\u2501\u2501\u2501\u2501\u2501\u2501\u2501\u2501\u2501\u2501\u2501\u2501\u2501\u2501\u2501\u2501\u2501\u2501\u2501\u2501\u2501\u2501\u2501\u2501\u2501\u2501\u2501\u2501\u2501\u2501\u2501\u2501\u2501\u2501\u2501\u2501\u2501\u2501\u2501\u2501\u001b[0m \u001b[32m280.0/280.0 kB\u001b[0m \u001b[31m8.7 MB/s\u001b[0m eta \u001b[36m0:00:00\u001b[0m\n",
            "\u001b[?25hInstalling collected packages: accelerate\n",
            "  Attempting uninstall: accelerate\n",
            "    Found existing installation: accelerate 1.7.0\n",
            "    Uninstalling accelerate-1.7.0:\n",
            "      Successfully uninstalled accelerate-1.7.0\n",
            "Successfully installed accelerate-0.27.2\n"
          ]
        }
      ]
    },
    {
      "cell_type": "code",
      "source": [
        "import accelerate\n",
        "print(accelerate.__version__)"
      ],
      "metadata": {
        "colab": {
          "base_uri": "https://localhost:8080/"
        },
        "id": "HYw5TQ4u6a1U",
        "executionInfo": {
          "status": "ok",
          "timestamp": 1748649343633,
          "user_tz": -180,
          "elapsed": 4841,
          "user": {
            "displayName": "vivian lauren",
            "userId": "06741933639622670164"
          }
        },
        "outputId": "cb8489f1-1109-47cd-e540-280b8b225c4a"
      },
      "execution_count": 4,
      "outputs": [
        {
          "output_type": "stream",
          "name": "stdout",
          "text": [
            "0.27.2\n"
          ]
        }
      ]
    },
    {
      "cell_type": "code",
      "source": [
        "import transformers\n",
        "print(transformers.__version__)"
      ],
      "metadata": {
        "colab": {
          "base_uri": "https://localhost:8080/"
        },
        "id": "Fk_qDLhVTwiN",
        "executionInfo": {
          "status": "ok",
          "timestamp": 1748649344486,
          "user_tz": -180,
          "elapsed": 18,
          "user": {
            "displayName": "vivian lauren",
            "userId": "06741933639622670164"
          }
        },
        "outputId": "cbfd28da-9653-4b89-c163-7bb7a4b9914b"
      },
      "execution_count": 5,
      "outputs": [
        {
          "output_type": "stream",
          "name": "stdout",
          "text": [
            "4.37.2\n"
          ]
        }
      ]
    },
    {
      "cell_type": "markdown",
      "source": [
        "# Connecting to Drive"
      ],
      "metadata": {
        "id": "6q2pQt7PfGHW"
      }
    },
    {
      "cell_type": "code",
      "source": [
        "from google.colab import drive\n",
        "drive.mount('/content/drive')"
      ],
      "metadata": {
        "id": "2jnksa0PxsWu",
        "colab": {
          "base_uri": "https://localhost:8080/"
        },
        "executionInfo": {
          "status": "ok",
          "timestamp": 1748651722727,
          "user_tz": -180,
          "elapsed": 1147,
          "user": {
            "displayName": "vivian lauren",
            "userId": "06741933639622670164"
          }
        },
        "outputId": "13c60954-94c7-4e74-e74b-246a6c1babcf"
      },
      "execution_count": 29,
      "outputs": [
        {
          "output_type": "stream",
          "name": "stdout",
          "text": [
            "Drive already mounted at /content/drive; to attempt to forcibly remount, call drive.mount(\"/content/drive\", force_remount=True).\n"
          ]
        }
      ]
    },
    {
      "cell_type": "code",
      "source": [
        "import pandas as pd\n",
        "import pickle\n",
        "import ast\n",
        "import numpy as np\n",
        "import torch\n",
        "from transformers import BertTokenizerFast"
      ],
      "metadata": {
        "id": "3rsuA7X4xsTP",
        "executionInfo": {
          "status": "ok",
          "timestamp": 1748649401344,
          "user_tz": -180,
          "elapsed": 534,
          "user": {
            "displayName": "vivian lauren",
            "userId": "06741933639622670164"
          }
        }
      },
      "execution_count": 7,
      "outputs": []
    },
    {
      "cell_type": "markdown",
      "source": [
        "# Load from Pickle"
      ],
      "metadata": {
        "id": "OIZqMnWQxw0M"
      }
    },
    {
      "cell_type": "code",
      "source": [
        "with open('/content/drive/MyDrive/nlp project/df1.pkl', 'rb') as f:\n",
        "    df1 = pickle.load(f)"
      ],
      "metadata": {
        "id": "BgIdk-uSxsQ4",
        "executionInfo": {
          "status": "ok",
          "timestamp": 1748649407754,
          "user_tz": -180,
          "elapsed": 1764,
          "user": {
            "displayName": "vivian lauren",
            "userId": "06741933639622670164"
          }
        }
      },
      "execution_count": 8,
      "outputs": []
    },
    {
      "cell_type": "code",
      "source": [
        "with open('/content/drive/MyDrive/nlp project/df2.pkl', 'rb') as f:\n",
        "    df2 = pickle.load(f)"
      ],
      "metadata": {
        "id": "L0Sz2FldxsOp",
        "executionInfo": {
          "status": "ok",
          "timestamp": 1748649409294,
          "user_tz": -180,
          "elapsed": 758,
          "user": {
            "displayName": "vivian lauren",
            "userId": "06741933639622670164"
          }
        }
      },
      "execution_count": 9,
      "outputs": []
    },
    {
      "cell_type": "code",
      "source": [
        "with open('/content/drive/MyDrive/nlp project/df3.pkl', 'rb') as f:\n",
        "    df2 = pickle.load(f)"
      ],
      "metadata": {
        "id": "2ExlzodHuasY",
        "executionInfo": {
          "status": "ok",
          "timestamp": 1748649410482,
          "user_tz": -180,
          "elapsed": 428,
          "user": {
            "displayName": "vivian lauren",
            "userId": "06741933639622670164"
          }
        }
      },
      "execution_count": 10,
      "outputs": []
    },
    {
      "cell_type": "markdown",
      "source": [
        "# Preprocessing and Tokenization"
      ],
      "metadata": {
        "id": "7gP-gOsWx0ju"
      }
    },
    {
      "cell_type": "code",
      "source": [
        "!nvidia-smi"
      ],
      "metadata": {
        "id": "4iNS_uxfxsMP",
        "colab": {
          "base_uri": "https://localhost:8080/"
        },
        "executionInfo": {
          "status": "ok",
          "timestamp": 1748649413544,
          "user_tz": -180,
          "elapsed": 370,
          "user": {
            "displayName": "vivian lauren",
            "userId": "06741933639622670164"
          }
        },
        "outputId": "e2cf8e66-e74e-4650-f10e-7dd3314913b4"
      },
      "execution_count": 11,
      "outputs": [
        {
          "output_type": "stream",
          "name": "stdout",
          "text": [
            "Fri May 30 23:56:53 2025       \n",
            "+-----------------------------------------------------------------------------------------+\n",
            "| NVIDIA-SMI 550.54.15              Driver Version: 550.54.15      CUDA Version: 12.4     |\n",
            "|-----------------------------------------+------------------------+----------------------+\n",
            "| GPU  Name                 Persistence-M | Bus-Id          Disp.A | Volatile Uncorr. ECC |\n",
            "| Fan  Temp   Perf          Pwr:Usage/Cap |           Memory-Usage | GPU-Util  Compute M. |\n",
            "|                                         |                        |               MIG M. |\n",
            "|=========================================+========================+======================|\n",
            "|   0  NVIDIA L4                      Off |   00000000:00:03.0 Off |                    0 |\n",
            "| N/A   29C    P8             11W /   72W |       0MiB /  23034MiB |      0%      Default |\n",
            "|                                         |                        |                  N/A |\n",
            "+-----------------------------------------+------------------------+----------------------+\n",
            "                                                                                         \n",
            "+-----------------------------------------------------------------------------------------+\n",
            "| Processes:                                                                              |\n",
            "|  GPU   GI   CI        PID   Type   Process name                              GPU Memory |\n",
            "|        ID   ID                                                               Usage      |\n",
            "|=========================================================================================|\n",
            "|  No running processes found                                                             |\n",
            "+-----------------------------------------------------------------------------------------+\n"
          ]
        }
      ]
    },
    {
      "cell_type": "code",
      "source": [
        "# import torch\n",
        "print(torch.cuda.is_available())  # Should return True if GPU is available\n",
        "print(torch.cuda.current_device())  # Should return the current device (0 for the first GPU)\n",
        "print(torch.cuda.get_device_name(0))  # Should return the name of the GPU"
      ],
      "metadata": {
        "id": "I0fJFgu5xsJ5",
        "colab": {
          "base_uri": "https://localhost:8080/"
        },
        "executionInfo": {
          "status": "ok",
          "timestamp": 1748649416468,
          "user_tz": -180,
          "elapsed": 7,
          "user": {
            "displayName": "vivian lauren",
            "userId": "06741933639622670164"
          }
        },
        "outputId": "d919bbcb-f99a-45ce-a512-d3aa99f82db4"
      },
      "execution_count": 12,
      "outputs": [
        {
          "output_type": "stream",
          "name": "stdout",
          "text": [
            "True\n",
            "0\n",
            "NVIDIA L4\n"
          ]
        }
      ]
    },
    {
      "cell_type": "code",
      "source": [
        "# import train_dataloader\n",
        "# Initialize the tokenizer\n",
        "from transformers import BertForQuestionAnswering\n",
        "tokenizer = BertTokenizerFast.from_pretrained('distilbert-base-uncased')\n",
        "\n",
        "# Move the model to the GPU if available\n",
        "# device = torch.device('cuda' if torch.cuda.is_available() else 'cpu')\n",
        "device = torch.device('cuda' if torch.cuda.is_available() else 'cpu')\n",
        "model = BertForQuestionAnswering.from_pretrained('distilbert-base-uncased').to(device)\n",
        "print(f\"Model is on device: {next(model.parameters()).device}\")\n",
        "\n",
        "\n",
        "# Function to safely parse answer values\n",
        "def parse_answer(ans):\n",
        "    if isinstance(ans, str):\n",
        "        try:\n",
        "            return ast.literal_eval(ans)\n",
        "        except (SyntaxError, ValueError):\n",
        "            return None\n",
        "    elif isinstance(ans, dict):\n",
        "        return ans\n",
        "    return None\n",
        "\n",
        "def add_token_positions(df):\n",
        "    contexts = df['context'].tolist()\n",
        "    questions = df['question'].tolist()\n",
        "\n",
        "    answer_text = df['answer_text'].tolist()\n",
        "    # df = df[df['answer_text'].notna()]\n",
        "\n",
        "    # answer_starts = df['answer_start.1'].tolist()\n",
        "    df['answer_start.1'] = pd.to_numeric(df['answer_start.1'], errors='coerce').fillna(0).astype(int)\n",
        "    answer_starts = df['answer_start.1'].tolist()\n",
        "\n",
        "\n",
        "\n",
        "    encodings = tokenizer(\n",
        "        questions,\n",
        "        contexts,\n",
        "        truncation=True,\n",
        "        padding=True,\n",
        "        return_offsets_mapping=True\n",
        "    )\n",
        "\n",
        "    start_positions = []\n",
        "    end_positions = []\n",
        "\n",
        "    for i in range(len(answer_text)):\n",
        "        offsets = encodings['offset_mapping'][i]\n",
        "        answer_start = answer_starts[i]\n",
        "        # answer_end = answer_start + len(answer_start[i])\n",
        "        answer_end = answer_start + len(answer_text[i])  # \u2705 Correct\n",
        "\n",
        "\n",
        "\n",
        "        start_idx = None\n",
        "        end_idx = None\n",
        "\n",
        "        for idx, (start, end) in enumerate(offsets):\n",
        "            if start <= answer_start < end:\n",
        "                start_idx = idx\n",
        "            if start < answer_end <= end:\n",
        "                end_idx = idx\n",
        "                break\n",
        "\n",
        "        if start_idx is None:\n",
        "            start_idx = 0\n",
        "        if end_idx is None:\n",
        "            end_idx = start_idx\n",
        "\n",
        "        start_positions.append(start_idx)\n",
        "        end_positions.append(end_idx)\n",
        "\n",
        "    encodings.pop(\"offset_mapping\")\n",
        "    encodings.update({'start_positions': start_positions, 'end_positions': end_positions})\n",
        "\n",
        "    return encodings\n",
        "\n",
        "train_encodings_1 = add_token_positions(df1)\n",
        "val_encodings_1 = add_token_positions(df2)\n",
        "\n",
        "# class SquadDataset(torch.utils.data.Dataset):\n",
        "#     def __init__(self, encodings):\n",
        "#         self.encodings = encodings\n",
        "\n",
        "#     def __len__(self):\n",
        "#         return len(self.encodings['input_ids'])\n",
        "\n",
        "#     def __getitem__(self, idx):\n",
        "#         # Move tensors to the device within __getitem__\n",
        "#         # return {key: torch.tensor(val[idx]).to(device) for key, val in self.encodings.items()}\n",
        "#         return {key: torch.tensor(val[idx]) for key, val in self.encodings.items()}\n",
        "\n",
        "class SquadDataset(torch.utils.data.Dataset):\n",
        "    def __init__(self, encodings):\n",
        "        self.encodings = encodings\n",
        "\n",
        "    def __len__(self):\n",
        "        return len(self.encodings['input_ids'])\n",
        "\n",
        "    def __getitem__(self, idx):\n",
        "        item = {key: torch.tensor(val[idx]) for key, val in self.encodings.items()}\n",
        "        # No need to group labels under 'labels' key \u2014 Trainer will handle it if keys match model inputs\n",
        "        return item\n",
        "\n",
        "\n",
        "\n",
        "# Remove the extra 'device' argument when creating instances\n",
        "train_dataset = SquadDataset(train_encodings_1)\n",
        "val_dataset = SquadDataset(val_encodings_1)\n",
        "\n",
        "for batch in train_dataset:\n",
        "    batch = {k: v.to(device) for k, v in batch.items()}\n",
        "\n",
        "# for batch in train_dataloader:\n",
        "#     batch = {k: v.to(device) for k, v in batch.items()}  # Move each batch to GPU\n",
        "#     outputs = model(**batch)  # Now this runs on GPU\n",
        "\n",
        "print(f\"Model is on device: {next(model.parameters()).device}\")\n",
        "batch = next(iter(train_dataset))\n",
        "print({k: v.device for k, v in batch.items()})  # Should print 'cuda' for all tensors"
      ],
      "metadata": {
        "id": "5kgFNo-9xsHU",
        "colab": {
          "base_uri": "https://localhost:8080/",
          "height": 535,
          "referenced_widgets": [
            "a3e8090e30854b138f56b32a68702425",
            "b04cdad8cce34074b7fb06fe22f62d45",
            "eb0d45b351d4427c855a78792991cb45",
            "820e817de5ac47ec9f5d43407327a61e",
            "3f4082d2657d428ea1433ab5cbdac5c5",
            "85a9d82e660743c29b8dd1b8628c298f",
            "3b0c1e7964cb422aadfc5ce993cbe58b",
            "34f650865fe94b6682c52375e2cf6c13",
            "f8cd483d78644104a555c6b2f0e9e845",
            "9bcb0d296045492dac60ab415982a87e",
            "5c8f4f836c504a8690a50e74d4e49d65",
            "51c9a84c38c1495aa38f3a4451e57fce",
            "acd2c02e79ed4fe08dd05f6b5b211453",
            "a335b6072f9f493f8448528c46757fce",
            "9034f9e5a9644ce5858ed76531bbb6e0",
            "5cad841a90f445028214d305adb4b62c",
            "52da4e77caf14b18a57926a4ac08e0a8",
            "bd631e155c894123b4f956e7c1b0fac7",
            "b61e44893ef942c9ad486f95afcd6ce0",
            "4f34921d596740c1b1cf7ecb7b4ebd70",
            "1ced4dca2a614e84a6fdb8df9286cf22",
            "fc3e790276c543edb7bda4379d0153a8",
            "49003f1c478346f19a28b4d4783c67a2",
            "f6a65f8a3d234f5b9c061c5d2f0b096a",
            "6d17c3ffd23947c8a6f97582efd92fdc",
            "dd0dc46e8eba417f9e06f2ae0e9e20c9",
            "ceef0b693d4342e486b0c462b8f7f36c",
            "66517a3cc1be4869bc0ab86c7946f031",
            "2a5e7a2778794d11aa7ce741fa5f3a56",
            "1cbf18a708384fa9a7bbb5fa5c75ffa5",
            "2a55199266ba42cc8fcf37bb879308bb",
            "1b4fcc5f2a76470182342addcb45412d",
            "60945a049bc543d98e502eebbe28f238",
            "a3231b55d1134c64b8795f4b8cc9e73f",
            "757a164f21dd40af8594ccd683bed6ad",
            "beb99252a7a34cdb9c4ac1e156740a53",
            "fd933631844d45c19d687814751339b4",
            "9f976799e5ca487d845f9d17cfc48570",
            "c7eede577beb4c078a9dab7b72462795",
            "d12e98dc48f346fba4181396f3dac179",
            "24972a6c3f324dd2b56d9703151ef211",
            "e9a3a76e647c49e497f53faef5fa9199",
            "83bffb07ad9b4de7bf46254d6ea501ab",
            "91c55372a9844bf7ac0236fb21f86ae2",
            "c1f0667ed7ff499188b5a9988254ef85",
            "9395fdbcaf74450cb3666134a8aaa836",
            "5a95a63fd99840bc89163b72fe0867f5",
            "2f24cd0cad9b45b6a82cb3afe668bc75",
            "8b7cc3c0a3864866a755cc2334d737d4",
            "98711358dac742d49e7a05d07621d68a",
            "da87070f24554f2ea0fb3525e6a05242",
            "7cf9a336211a42408f861cadb47310bd",
            "c9ffeae3b1a9484baf26ba4275b582b7",
            "b1bcd541cfd24b2597ddbfe728b6f322",
            "7b8b746e1b4843ff9ef8ab776ed8f14f"
          ]
        },
        "executionInfo": {
          "status": "ok",
          "timestamp": 1748649464602,
          "user_tz": -180,
          "elapsed": 46520,
          "user": {
            "displayName": "vivian lauren",
            "userId": "06741933639622670164"
          }
        },
        "outputId": "543b2330-3f76-4b3d-f6d5-ca6a5cc7732e"
      },
      "execution_count": 13,
      "outputs": [
        {
          "output_type": "stream",
          "name": "stderr",
          "text": [
            "/usr/local/lib/python3.11/dist-packages/huggingface_hub/file_download.py:943: FutureWarning: `resume_download` is deprecated and will be removed in version 1.0.0. Downloads always resume when possible. If you want to force a new download, use `force_download=True`.\n",
            "  warnings.warn(\n",
            "/usr/local/lib/python3.11/dist-packages/huggingface_hub/utils/_auth.py:94: UserWarning: \n",
            "The secret `HF_TOKEN` does not exist in your Colab secrets.\n",
            "To authenticate with the Hugging Face Hub, create a token in your settings tab (https://huggingface.co/settings/tokens), set it as secret in your Google Colab and restart your session.\n",
            "You will be able to reuse this secret in all of your notebooks.\n",
            "Please note that authentication is recommended but still optional to access public models or datasets.\n",
            "  warnings.warn(\n"
          ]
        },
        {
          "output_type": "display_data",
          "data": {
            "text/plain": [
              "tokenizer_config.json:   0%|          | 0.00/48.0 [00:00<?, ?B/s]"
            ],
            "application/vnd.jupyter.widget-view+json": {
              "version_major": 2,
              "version_minor": 0,
              "model_id": "a3e8090e30854b138f56b32a68702425"
            }
          },
          "metadata": {}
        },
        {
          "output_type": "display_data",
          "data": {
            "text/plain": [
              "vocab.txt:   0%|          | 0.00/232k [00:00<?, ?B/s]"
            ],
            "application/vnd.jupyter.widget-view+json": {
              "version_major": 2,
              "version_minor": 0,
              "model_id": "51c9a84c38c1495aa38f3a4451e57fce"
            }
          },
          "metadata": {}
        },
        {
          "output_type": "display_data",
          "data": {
            "text/plain": [
              "tokenizer.json:   0%|          | 0.00/466k [00:00<?, ?B/s]"
            ],
            "application/vnd.jupyter.widget-view+json": {
              "version_major": 2,
              "version_minor": 0,
              "model_id": "49003f1c478346f19a28b4d4783c67a2"
            }
          },
          "metadata": {}
        },
        {
          "output_type": "display_data",
          "data": {
            "text/plain": [
              "config.json:   0%|          | 0.00/483 [00:00<?, ?B/s]"
            ],
            "application/vnd.jupyter.widget-view+json": {
              "version_major": 2,
              "version_minor": 0,
              "model_id": "a3231b55d1134c64b8795f4b8cc9e73f"
            }
          },
          "metadata": {}
        },
        {
          "output_type": "stream",
          "name": "stderr",
          "text": [
            "The tokenizer class you load from this checkpoint is not the same type as the class this function is called from. It may result in unexpected tokenization. \n",
            "The tokenizer class you load from this checkpoint is 'DistilBertTokenizer'. \n",
            "The class this function is called from is 'BertTokenizerFast'.\n",
            "You are using a model of type distilbert to instantiate a model of type bert. This is not supported for all configurations of models and can yield errors.\n",
            "Xet Storage is enabled for this repo, but the 'hf_xet' package is not installed. Falling back to regular HTTP download. For better performance, install the package with: `pip install huggingface_hub[hf_xet]` or `pip install hf_xet`\n",
            "WARNING:huggingface_hub.file_download:Xet Storage is enabled for this repo, but the 'hf_xet' package is not installed. Falling back to regular HTTP download. For better performance, install the package with: `pip install huggingface_hub[hf_xet]` or `pip install hf_xet`\n"
          ]
        },
        {
          "output_type": "display_data",
          "data": {
            "text/plain": [
              "model.safetensors:   0%|          | 0.00/268M [00:00<?, ?B/s]"
            ],
            "application/vnd.jupyter.widget-view+json": {
              "version_major": 2,
              "version_minor": 0,
              "model_id": "c1f0667ed7ff499188b5a9988254ef85"
            }
          },
          "metadata": {}
        },
        {
          "output_type": "stream",
          "name": "stderr",
          "text": [
            "Some weights of BertForQuestionAnswering were not initialized from the model checkpoint at distilbert-base-uncased and are newly initialized: ['embeddings.LayerNorm.bias', 'embeddings.LayerNorm.weight', 'embeddings.position_embeddings.weight', 'embeddings.token_type_embeddings.weight', 'embeddings.word_embeddings.weight', 'encoder.layer.0.attention.output.LayerNorm.bias', 'encoder.layer.0.attention.output.LayerNorm.weight', 'encoder.layer.0.attention.output.dense.bias', 'encoder.layer.0.attention.output.dense.weight', 'encoder.layer.0.attention.self.key.bias', 'encoder.layer.0.attention.self.key.weight', 'encoder.layer.0.attention.self.query.bias', 'encoder.layer.0.attention.self.query.weight', 'encoder.layer.0.attention.self.value.bias', 'encoder.layer.0.attention.self.value.weight', 'encoder.layer.0.intermediate.dense.bias', 'encoder.layer.0.intermediate.dense.weight', 'encoder.layer.0.output.LayerNorm.bias', 'encoder.layer.0.output.LayerNorm.weight', 'encoder.layer.0.output.dense.bias', 'encoder.layer.0.output.dense.weight', 'encoder.layer.1.attention.output.LayerNorm.bias', 'encoder.layer.1.attention.output.LayerNorm.weight', 'encoder.layer.1.attention.output.dense.bias', 'encoder.layer.1.attention.output.dense.weight', 'encoder.layer.1.attention.self.key.bias', 'encoder.layer.1.attention.self.key.weight', 'encoder.layer.1.attention.self.query.bias', 'encoder.layer.1.attention.self.query.weight', 'encoder.layer.1.attention.self.value.bias', 'encoder.layer.1.attention.self.value.weight', 'encoder.layer.1.intermediate.dense.bias', 'encoder.layer.1.intermediate.dense.weight', 'encoder.layer.1.output.LayerNorm.bias', 'encoder.layer.1.output.LayerNorm.weight', 'encoder.layer.1.output.dense.bias', 'encoder.layer.1.output.dense.weight', 'encoder.layer.10.attention.output.LayerNorm.bias', 'encoder.layer.10.attention.output.LayerNorm.weight', 'encoder.layer.10.attention.output.dense.bias', 'encoder.layer.10.attention.output.dense.weight', 'encoder.layer.10.attention.self.key.bias', 'encoder.layer.10.attention.self.key.weight', 'encoder.layer.10.attention.self.query.bias', 'encoder.layer.10.attention.self.query.weight', 'encoder.layer.10.attention.self.value.bias', 'encoder.layer.10.attention.self.value.weight', 'encoder.layer.10.intermediate.dense.bias', 'encoder.layer.10.intermediate.dense.weight', 'encoder.layer.10.output.LayerNorm.bias', 'encoder.layer.10.output.LayerNorm.weight', 'encoder.layer.10.output.dense.bias', 'encoder.layer.10.output.dense.weight', 'encoder.layer.11.attention.output.LayerNorm.bias', 'encoder.layer.11.attention.output.LayerNorm.weight', 'encoder.layer.11.attention.output.dense.bias', 'encoder.layer.11.attention.output.dense.weight', 'encoder.layer.11.attention.self.key.bias', 'encoder.layer.11.attention.self.key.weight', 'encoder.layer.11.attention.self.query.bias', 'encoder.layer.11.attention.self.query.weight', 'encoder.layer.11.attention.self.value.bias', 'encoder.layer.11.attention.self.value.weight', 'encoder.layer.11.intermediate.dense.bias', 'encoder.layer.11.intermediate.dense.weight', 'encoder.layer.11.output.LayerNorm.bias', 'encoder.layer.11.output.LayerNorm.weight', 'encoder.layer.11.output.dense.bias', 'encoder.layer.11.output.dense.weight', 'encoder.layer.2.attention.output.LayerNorm.bias', 'encoder.layer.2.attention.output.LayerNorm.weight', 'encoder.layer.2.attention.output.dense.bias', 'encoder.layer.2.attention.output.dense.weight', 'encoder.layer.2.attention.self.key.bias', 'encoder.layer.2.attention.self.key.weight', 'encoder.layer.2.attention.self.query.bias', 'encoder.layer.2.attention.self.query.weight', 'encoder.layer.2.attention.self.value.bias', 'encoder.layer.2.attention.self.value.weight', 'encoder.layer.2.intermediate.dense.bias', 'encoder.layer.2.intermediate.dense.weight', 'encoder.layer.2.output.LayerNorm.bias', 'encoder.layer.2.output.LayerNorm.weight', 'encoder.layer.2.output.dense.bias', 'encoder.layer.2.output.dense.weight', 'encoder.layer.3.attention.output.LayerNorm.bias', 'encoder.layer.3.attention.output.LayerNorm.weight', 'encoder.layer.3.attention.output.dense.bias', 'encoder.layer.3.attention.output.dense.weight', 'encoder.layer.3.attention.self.key.bias', 'encoder.layer.3.attention.self.key.weight', 'encoder.layer.3.attention.self.query.bias', 'encoder.layer.3.attention.self.query.weight', 'encoder.layer.3.attention.self.value.bias', 'encoder.layer.3.attention.self.value.weight', 'encoder.layer.3.intermediate.dense.bias', 'encoder.layer.3.intermediate.dense.weight', 'encoder.layer.3.output.LayerNorm.bias', 'encoder.layer.3.output.LayerNorm.weight', 'encoder.layer.3.output.dense.bias', 'encoder.layer.3.output.dense.weight', 'encoder.layer.4.attention.output.LayerNorm.bias', 'encoder.layer.4.attention.output.LayerNorm.weight', 'encoder.layer.4.attention.output.dense.bias', 'encoder.layer.4.attention.output.dense.weight', 'encoder.layer.4.attention.self.key.bias', 'encoder.layer.4.attention.self.key.weight', 'encoder.layer.4.attention.self.query.bias', 'encoder.layer.4.attention.self.query.weight', 'encoder.layer.4.attention.self.value.bias', 'encoder.layer.4.attention.self.value.weight', 'encoder.layer.4.intermediate.dense.bias', 'encoder.layer.4.intermediate.dense.weight', 'encoder.layer.4.output.LayerNorm.bias', 'encoder.layer.4.output.LayerNorm.weight', 'encoder.layer.4.output.dense.bias', 'encoder.layer.4.output.dense.weight', 'encoder.layer.5.attention.output.LayerNorm.bias', 'encoder.layer.5.attention.output.LayerNorm.weight', 'encoder.layer.5.attention.output.dense.bias', 'encoder.layer.5.attention.output.dense.weight', 'encoder.layer.5.attention.self.key.bias', 'encoder.layer.5.attention.self.key.weight', 'encoder.layer.5.attention.self.query.bias', 'encoder.layer.5.attention.self.query.weight', 'encoder.layer.5.attention.self.value.bias', 'encoder.layer.5.attention.self.value.weight', 'encoder.layer.5.intermediate.dense.bias', 'encoder.layer.5.intermediate.dense.weight', 'encoder.layer.5.output.LayerNorm.bias', 'encoder.layer.5.output.LayerNorm.weight', 'encoder.layer.5.output.dense.bias', 'encoder.layer.5.output.dense.weight', 'encoder.layer.6.attention.output.LayerNorm.bias', 'encoder.layer.6.attention.output.LayerNorm.weight', 'encoder.layer.6.attention.output.dense.bias', 'encoder.layer.6.attention.output.dense.weight', 'encoder.layer.6.attention.self.key.bias', 'encoder.layer.6.attention.self.key.weight', 'encoder.layer.6.attention.self.query.bias', 'encoder.layer.6.attention.self.query.weight', 'encoder.layer.6.attention.self.value.bias', 'encoder.layer.6.attention.self.value.weight', 'encoder.layer.6.intermediate.dense.bias', 'encoder.layer.6.intermediate.dense.weight', 'encoder.layer.6.output.LayerNorm.bias', 'encoder.layer.6.output.LayerNorm.weight', 'encoder.layer.6.output.dense.bias', 'encoder.layer.6.output.dense.weight', 'encoder.layer.7.attention.output.LayerNorm.bias', 'encoder.layer.7.attention.output.LayerNorm.weight', 'encoder.layer.7.attention.output.dense.bias', 'encoder.layer.7.attention.output.dense.weight', 'encoder.layer.7.attention.self.key.bias', 'encoder.layer.7.attention.self.key.weight', 'encoder.layer.7.attention.self.query.bias', 'encoder.layer.7.attention.self.query.weight', 'encoder.layer.7.attention.self.value.bias', 'encoder.layer.7.attention.self.value.weight', 'encoder.layer.7.intermediate.dense.bias', 'encoder.layer.7.intermediate.dense.weight', 'encoder.layer.7.output.LayerNorm.bias', 'encoder.layer.7.output.LayerNorm.weight', 'encoder.layer.7.output.dense.bias', 'encoder.layer.7.output.dense.weight', 'encoder.layer.8.attention.output.LayerNorm.bias', 'encoder.layer.8.attention.output.LayerNorm.weight', 'encoder.layer.8.attention.output.dense.bias', 'encoder.layer.8.attention.output.dense.weight', 'encoder.layer.8.attention.self.key.bias', 'encoder.layer.8.attention.self.key.weight', 'encoder.layer.8.attention.self.query.bias', 'encoder.layer.8.attention.self.query.weight', 'encoder.layer.8.attention.self.value.bias', 'encoder.layer.8.attention.self.value.weight', 'encoder.layer.8.intermediate.dense.bias', 'encoder.layer.8.intermediate.dense.weight', 'encoder.layer.8.output.LayerNorm.bias', 'encoder.layer.8.output.LayerNorm.weight', 'encoder.layer.8.output.dense.bias', 'encoder.layer.8.output.dense.weight', 'encoder.layer.9.attention.output.LayerNorm.bias', 'encoder.layer.9.attention.output.LayerNorm.weight', 'encoder.layer.9.attention.output.dense.bias', 'encoder.layer.9.attention.output.dense.weight', 'encoder.layer.9.attention.self.key.bias', 'encoder.layer.9.attention.self.key.weight', 'encoder.layer.9.attention.self.query.bias', 'encoder.layer.9.attention.self.query.weight', 'encoder.layer.9.attention.self.value.bias', 'encoder.layer.9.attention.self.value.weight', 'encoder.layer.9.intermediate.dense.bias', 'encoder.layer.9.intermediate.dense.weight', 'encoder.layer.9.output.LayerNorm.bias', 'encoder.layer.9.output.LayerNorm.weight', 'encoder.layer.9.output.dense.bias', 'encoder.layer.9.output.dense.weight', 'qa_outputs.bias', 'qa_outputs.weight']\n",
            "You should probably TRAIN this model on a down-stream task to be able to use it for predictions and inference.\n"
          ]
        },
        {
          "output_type": "stream",
          "name": "stdout",
          "text": [
            "Model is on device: cuda:0\n",
            "Model is on device: cuda:0\n",
            "{'input_ids': device(type='cpu'), 'token_type_ids': device(type='cpu'), 'attention_mask': device(type='cpu'), 'start_positions': device(type='cpu'), 'end_positions': device(type='cpu')}\n"
          ]
        }
      ]
    },
    {
      "cell_type": "code",
      "source": [
        "print(len(train_encodings_1['input_ids']))\n",
        "print(len(train_encodings_1['start_positions']))\n",
        "print(len(train_encodings_1['end_positions']))"
      ],
      "metadata": {
        "id": "tHhhTVQ7xsFB",
        "colab": {
          "base_uri": "https://localhost:8080/"
        },
        "executionInfo": {
          "status": "ok",
          "timestamp": 1748649516405,
          "user_tz": -180,
          "elapsed": 62,
          "user": {
            "displayName": "vivian lauren",
            "userId": "06741933639622670164"
          }
        },
        "outputId": "1e9d9db8-4b01-4238-c156-0bcc58e71e35"
      },
      "execution_count": 14,
      "outputs": [
        {
          "output_type": "stream",
          "name": "stdout",
          "text": [
            "64550\n",
            "64550\n",
            "64550\n"
          ]
        }
      ]
    },
    {
      "cell_type": "markdown",
      "source": [
        "# convert encodings to a dataset for pytorch and tensorflow"
      ],
      "metadata": {
        "id": "ZGs2e57TyMEN"
      }
    },
    {
      "cell_type": "code",
      "source": [
        "from torch.utils.data import DataLoader\n",
        "# Create DataLoaders\n",
        "train_dataloader = DataLoader(train_dataset, batch_size=8, shuffle=True)\n",
        "val_dataloader = DataLoader(val_dataset, batch_size=8, shuffle=False)\n",
        "\n",
        "# Move batch to device\n",
        "for batch in train_dataloader:\n",
        "    batch = {k: v.to(device) for k, v in batch.items()}\n",
        "    outputs = model(**batch)  # Model inference\n",
        "    break  # Run only one batch for testing\n",
        "\n",
        "print(f\"Model is on device: {next(model.parameters()).device}\")\n",
        "print({k: v.device for k, v in batch.items()})\n",
        "print(torch.cuda.memory_allocated())\n",
        "print(torch.cuda.memory_reserved())"
      ],
      "metadata": {
        "id": "teFH_oXWxsC_",
        "colab": {
          "base_uri": "https://localhost:8080/"
        },
        "executionInfo": {
          "status": "ok",
          "timestamp": 1748649519474,
          "user_tz": -180,
          "elapsed": 549,
          "user": {
            "displayName": "vivian lauren",
            "userId": "06741933639622670164"
          }
        },
        "outputId": "80967e03-fc76-42a3-9fb2-59825afa18f3"
      },
      "execution_count": 15,
      "outputs": [
        {
          "output_type": "stream",
          "name": "stdout",
          "text": [
            "Model is on device: cuda:0\n",
            "{'input_ids': device(type='cuda', index=0), 'token_type_ids': device(type='cuda', index=0), 'attention_mask': device(type='cuda', index=0), 'start_positions': device(type='cuda', index=0), 'end_positions': device(type='cuda', index=0)}\n",
            "4095264768\n",
            "4150263808\n"
          ]
        }
      ]
    },
    {
      "cell_type": "code",
      "source": [
        "import torch\n",
        "from transformers import BertTokenizerFast, BertForQuestionAnswering\n",
        "from torch.utils.data import DataLoader, Dataset\n",
        "\n",
        "tokenizer = BertTokenizerFast.from_pretrained('distilbert-base-uncased')\n",
        "device = torch.device('cuda' if torch.cuda.is_available() else 'cpu')\n",
        "\n",
        "# Dummy data\n",
        "questions = [\"What is your name?\"] * 10\n",
        "contexts = [\"My name is ChatGPT.\"] * 10\n",
        "answers = [\"ChatGPT\"] * 10\n",
        "starts = [11] * 10\n",
        "\n",
        "encodings = tokenizer(questions, contexts, truncation=True, padding=True, return_offsets_mapping=True)\n",
        "encodings.pop(\"offset_mapping\")\n",
        "encodings.update({'start_positions': starts, 'end_positions': [18]*10})\n",
        "\n",
        "class SquadDataset(Dataset):\n",
        "    def __init__(self, encodings):\n",
        "        self.encodings = encodings\n",
        "    def __len__(self):\n",
        "        return len(self.encodings['input_ids'])\n",
        "    def __getitem__(self, idx):\n",
        "        return {k: torch.tensor(v[idx]) for k, v in self.encodings.items()}\n",
        "\n",
        "dataset = SquadDataset(encodings)\n",
        "loader = DataLoader(dataset, batch_size=2)\n",
        "\n",
        "model = BertForQuestionAnswering.from_pretrained('distilbert-base-uncased').to(device)\n",
        "\n",
        "# Run a test batch\n",
        "for batch in loader:\n",
        "    batch = {k: v.to(device) for k, v in batch.items()}\n",
        "    print({k: v.device for k, v in batch.items()})\n",
        "    with torch.no_grad():\n",
        "        outputs = model(**batch)\n",
        "    break\n",
        "\n",
        "print(\"CUDA Allocated:\", torch.cuda.memory_allocated())\n",
        "print(\"CUDA Reserved:\", torch.cuda.memory_reserved())\n"
      ],
      "metadata": {
        "id": "UQWiEgOSxsAg",
        "colab": {
          "base_uri": "https://localhost:8080/"
        },
        "executionInfo": {
          "status": "ok",
          "timestamp": 1748649521795,
          "user_tz": -180,
          "elapsed": 1419,
          "user": {
            "displayName": "vivian lauren",
            "userId": "06741933639622670164"
          }
        },
        "outputId": "c2bb5349-ff15-496a-c1e6-e44dc7c87979"
      },
      "execution_count": 16,
      "outputs": [
        {
          "output_type": "stream",
          "name": "stderr",
          "text": [
            "/usr/local/lib/python3.11/dist-packages/huggingface_hub/file_download.py:943: FutureWarning: `resume_download` is deprecated and will be removed in version 1.0.0. Downloads always resume when possible. If you want to force a new download, use `force_download=True`.\n",
            "  warnings.warn(\n",
            "The tokenizer class you load from this checkpoint is not the same type as the class this function is called from. It may result in unexpected tokenization. \n",
            "The tokenizer class you load from this checkpoint is 'DistilBertTokenizer'. \n",
            "The class this function is called from is 'BertTokenizerFast'.\n",
            "You are using a model of type distilbert to instantiate a model of type bert. This is not supported for all configurations of models and can yield errors.\n",
            "Some weights of BertForQuestionAnswering were not initialized from the model checkpoint at distilbert-base-uncased and are newly initialized: ['embeddings.LayerNorm.bias', 'embeddings.LayerNorm.weight', 'embeddings.position_embeddings.weight', 'embeddings.token_type_embeddings.weight', 'embeddings.word_embeddings.weight', 'encoder.layer.0.attention.output.LayerNorm.bias', 'encoder.layer.0.attention.output.LayerNorm.weight', 'encoder.layer.0.attention.output.dense.bias', 'encoder.layer.0.attention.output.dense.weight', 'encoder.layer.0.attention.self.key.bias', 'encoder.layer.0.attention.self.key.weight', 'encoder.layer.0.attention.self.query.bias', 'encoder.layer.0.attention.self.query.weight', 'encoder.layer.0.attention.self.value.bias', 'encoder.layer.0.attention.self.value.weight', 'encoder.layer.0.intermediate.dense.bias', 'encoder.layer.0.intermediate.dense.weight', 'encoder.layer.0.output.LayerNorm.bias', 'encoder.layer.0.output.LayerNorm.weight', 'encoder.layer.0.output.dense.bias', 'encoder.layer.0.output.dense.weight', 'encoder.layer.1.attention.output.LayerNorm.bias', 'encoder.layer.1.attention.output.LayerNorm.weight', 'encoder.layer.1.attention.output.dense.bias', 'encoder.layer.1.attention.output.dense.weight', 'encoder.layer.1.attention.self.key.bias', 'encoder.layer.1.attention.self.key.weight', 'encoder.layer.1.attention.self.query.bias', 'encoder.layer.1.attention.self.query.weight', 'encoder.layer.1.attention.self.value.bias', 'encoder.layer.1.attention.self.value.weight', 'encoder.layer.1.intermediate.dense.bias', 'encoder.layer.1.intermediate.dense.weight', 'encoder.layer.1.output.LayerNorm.bias', 'encoder.layer.1.output.LayerNorm.weight', 'encoder.layer.1.output.dense.bias', 'encoder.layer.1.output.dense.weight', 'encoder.layer.10.attention.output.LayerNorm.bias', 'encoder.layer.10.attention.output.LayerNorm.weight', 'encoder.layer.10.attention.output.dense.bias', 'encoder.layer.10.attention.output.dense.weight', 'encoder.layer.10.attention.self.key.bias', 'encoder.layer.10.attention.self.key.weight', 'encoder.layer.10.attention.self.query.bias', 'encoder.layer.10.attention.self.query.weight', 'encoder.layer.10.attention.self.value.bias', 'encoder.layer.10.attention.self.value.weight', 'encoder.layer.10.intermediate.dense.bias', 'encoder.layer.10.intermediate.dense.weight', 'encoder.layer.10.output.LayerNorm.bias', 'encoder.layer.10.output.LayerNorm.weight', 'encoder.layer.10.output.dense.bias', 'encoder.layer.10.output.dense.weight', 'encoder.layer.11.attention.output.LayerNorm.bias', 'encoder.layer.11.attention.output.LayerNorm.weight', 'encoder.layer.11.attention.output.dense.bias', 'encoder.layer.11.attention.output.dense.weight', 'encoder.layer.11.attention.self.key.bias', 'encoder.layer.11.attention.self.key.weight', 'encoder.layer.11.attention.self.query.bias', 'encoder.layer.11.attention.self.query.weight', 'encoder.layer.11.attention.self.value.bias', 'encoder.layer.11.attention.self.value.weight', 'encoder.layer.11.intermediate.dense.bias', 'encoder.layer.11.intermediate.dense.weight', 'encoder.layer.11.output.LayerNorm.bias', 'encoder.layer.11.output.LayerNorm.weight', 'encoder.layer.11.output.dense.bias', 'encoder.layer.11.output.dense.weight', 'encoder.layer.2.attention.output.LayerNorm.bias', 'encoder.layer.2.attention.output.LayerNorm.weight', 'encoder.layer.2.attention.output.dense.bias', 'encoder.layer.2.attention.output.dense.weight', 'encoder.layer.2.attention.self.key.bias', 'encoder.layer.2.attention.self.key.weight', 'encoder.layer.2.attention.self.query.bias', 'encoder.layer.2.attention.self.query.weight', 'encoder.layer.2.attention.self.value.bias', 'encoder.layer.2.attention.self.value.weight', 'encoder.layer.2.intermediate.dense.bias', 'encoder.layer.2.intermediate.dense.weight', 'encoder.layer.2.output.LayerNorm.bias', 'encoder.layer.2.output.LayerNorm.weight', 'encoder.layer.2.output.dense.bias', 'encoder.layer.2.output.dense.weight', 'encoder.layer.3.attention.output.LayerNorm.bias', 'encoder.layer.3.attention.output.LayerNorm.weight', 'encoder.layer.3.attention.output.dense.bias', 'encoder.layer.3.attention.output.dense.weight', 'encoder.layer.3.attention.self.key.bias', 'encoder.layer.3.attention.self.key.weight', 'encoder.layer.3.attention.self.query.bias', 'encoder.layer.3.attention.self.query.weight', 'encoder.layer.3.attention.self.value.bias', 'encoder.layer.3.attention.self.value.weight', 'encoder.layer.3.intermediate.dense.bias', 'encoder.layer.3.intermediate.dense.weight', 'encoder.layer.3.output.LayerNorm.bias', 'encoder.layer.3.output.LayerNorm.weight', 'encoder.layer.3.output.dense.bias', 'encoder.layer.3.output.dense.weight', 'encoder.layer.4.attention.output.LayerNorm.bias', 'encoder.layer.4.attention.output.LayerNorm.weight', 'encoder.layer.4.attention.output.dense.bias', 'encoder.layer.4.attention.output.dense.weight', 'encoder.layer.4.attention.self.key.bias', 'encoder.layer.4.attention.self.key.weight', 'encoder.layer.4.attention.self.query.bias', 'encoder.layer.4.attention.self.query.weight', 'encoder.layer.4.attention.self.value.bias', 'encoder.layer.4.attention.self.value.weight', 'encoder.layer.4.intermediate.dense.bias', 'encoder.layer.4.intermediate.dense.weight', 'encoder.layer.4.output.LayerNorm.bias', 'encoder.layer.4.output.LayerNorm.weight', 'encoder.layer.4.output.dense.bias', 'encoder.layer.4.output.dense.weight', 'encoder.layer.5.attention.output.LayerNorm.bias', 'encoder.layer.5.attention.output.LayerNorm.weight', 'encoder.layer.5.attention.output.dense.bias', 'encoder.layer.5.attention.output.dense.weight', 'encoder.layer.5.attention.self.key.bias', 'encoder.layer.5.attention.self.key.weight', 'encoder.layer.5.attention.self.query.bias', 'encoder.layer.5.attention.self.query.weight', 'encoder.layer.5.attention.self.value.bias', 'encoder.layer.5.attention.self.value.weight', 'encoder.layer.5.intermediate.dense.bias', 'encoder.layer.5.intermediate.dense.weight', 'encoder.layer.5.output.LayerNorm.bias', 'encoder.layer.5.output.LayerNorm.weight', 'encoder.layer.5.output.dense.bias', 'encoder.layer.5.output.dense.weight', 'encoder.layer.6.attention.output.LayerNorm.bias', 'encoder.layer.6.attention.output.LayerNorm.weight', 'encoder.layer.6.attention.output.dense.bias', 'encoder.layer.6.attention.output.dense.weight', 'encoder.layer.6.attention.self.key.bias', 'encoder.layer.6.attention.self.key.weight', 'encoder.layer.6.attention.self.query.bias', 'encoder.layer.6.attention.self.query.weight', 'encoder.layer.6.attention.self.value.bias', 'encoder.layer.6.attention.self.value.weight', 'encoder.layer.6.intermediate.dense.bias', 'encoder.layer.6.intermediate.dense.weight', 'encoder.layer.6.output.LayerNorm.bias', 'encoder.layer.6.output.LayerNorm.weight', 'encoder.layer.6.output.dense.bias', 'encoder.layer.6.output.dense.weight', 'encoder.layer.7.attention.output.LayerNorm.bias', 'encoder.layer.7.attention.output.LayerNorm.weight', 'encoder.layer.7.attention.output.dense.bias', 'encoder.layer.7.attention.output.dense.weight', 'encoder.layer.7.attention.self.key.bias', 'encoder.layer.7.attention.self.key.weight', 'encoder.layer.7.attention.self.query.bias', 'encoder.layer.7.attention.self.query.weight', 'encoder.layer.7.attention.self.value.bias', 'encoder.layer.7.attention.self.value.weight', 'encoder.layer.7.intermediate.dense.bias', 'encoder.layer.7.intermediate.dense.weight', 'encoder.layer.7.output.LayerNorm.bias', 'encoder.layer.7.output.LayerNorm.weight', 'encoder.layer.7.output.dense.bias', 'encoder.layer.7.output.dense.weight', 'encoder.layer.8.attention.output.LayerNorm.bias', 'encoder.layer.8.attention.output.LayerNorm.weight', 'encoder.layer.8.attention.output.dense.bias', 'encoder.layer.8.attention.output.dense.weight', 'encoder.layer.8.attention.self.key.bias', 'encoder.layer.8.attention.self.key.weight', 'encoder.layer.8.attention.self.query.bias', 'encoder.layer.8.attention.self.query.weight', 'encoder.layer.8.attention.self.value.bias', 'encoder.layer.8.attention.self.value.weight', 'encoder.layer.8.intermediate.dense.bias', 'encoder.layer.8.intermediate.dense.weight', 'encoder.layer.8.output.LayerNorm.bias', 'encoder.layer.8.output.LayerNorm.weight', 'encoder.layer.8.output.dense.bias', 'encoder.layer.8.output.dense.weight', 'encoder.layer.9.attention.output.LayerNorm.bias', 'encoder.layer.9.attention.output.LayerNorm.weight', 'encoder.layer.9.attention.output.dense.bias', 'encoder.layer.9.attention.output.dense.weight', 'encoder.layer.9.attention.self.key.bias', 'encoder.layer.9.attention.self.key.weight', 'encoder.layer.9.attention.self.query.bias', 'encoder.layer.9.attention.self.query.weight', 'encoder.layer.9.attention.self.value.bias', 'encoder.layer.9.attention.self.value.weight', 'encoder.layer.9.intermediate.dense.bias', 'encoder.layer.9.intermediate.dense.weight', 'encoder.layer.9.output.LayerNorm.bias', 'encoder.layer.9.output.LayerNorm.weight', 'encoder.layer.9.output.dense.bias', 'encoder.layer.9.output.dense.weight', 'qa_outputs.bias', 'qa_outputs.weight']\n",
            "You should probably TRAIN this model on a down-stream task to be able to use it for predictions and inference.\n"
          ]
        },
        {
          "output_type": "stream",
          "name": "stdout",
          "text": [
            "{'input_ids': device(type='cuda', index=0), 'token_type_ids': device(type='cuda', index=0), 'attention_mask': device(type='cuda', index=0), 'start_positions': device(type='cuda', index=0), 'end_positions': device(type='cuda', index=0)}\n",
            "CUDA Allocated: 4532769280\n",
            "CUDA Reserved: 4624220160\n"
          ]
        }
      ]
    },
    {
      "cell_type": "code",
      "source": [
        "print(f\"validation dataset size: {len(val_dataset)}\")"
      ],
      "metadata": {
        "colab": {
          "base_uri": "https://localhost:8080/"
        },
        "id": "jmEdl_20ycxT",
        "executionInfo": {
          "status": "ok",
          "timestamp": 1748649524723,
          "user_tz": -180,
          "elapsed": 14,
          "user": {
            "displayName": "vivian lauren",
            "userId": "06741933639622670164"
          }
        },
        "outputId": "dba65c35-8a93-4316-80e3-6340aa283946"
      },
      "execution_count": 17,
      "outputs": [
        {
          "output_type": "stream",
          "name": "stdout",
          "text": [
            "validation dataset size: 100\n"
          ]
        }
      ]
    },
    {
      "cell_type": "code",
      "source": [
        "# import numpy as np\n",
        "from datasets import load_metric\n",
        "\n",
        "metric = load_metric(\"squad\")\n",
        "\n",
        "def compute_metrics(p):\n",
        "    start_logits, end_logits = p.predictions\n",
        "    start_preds = np.argmax(start_logits, axis=1)\n",
        "    end_preds = np.argmax(end_logits, axis=1)\n",
        "\n",
        "    start_labels = p.label_ids[0]\n",
        "    end_labels = p.label_ids[1]\n",
        "\n",
        "    # Convert to squad-style predictions and references\n",
        "    # NOTE: This only works if you have original context and offset mappings\n",
        "    # If you don't, consider returning exact match and F1 for token positions instead\n",
        "\n",
        "    return {\n",
        "        \"start_accuracy\": (start_preds == start_labels).mean(),\n",
        "        \"end_accuracy\": (end_preds == end_labels).mean()\n",
        "    }"
      ],
      "metadata": {
        "colab": {
          "base_uri": "https://localhost:8080/",
          "height": 137,
          "referenced_widgets": [
            "a8ddbd4373b04f909575df7ec8323e49",
            "44b5d65bc2284298a8858b84649f59d7",
            "babc5c5be2de4ec3be7d8c2365dbb7f4",
            "85087468f84043af809a45d48ff53323",
            "9cbe7c388b574533975328e13bbf681e",
            "e84cd0165288495088614c7b9ac1c4c0",
            "265632f295c6464a84d5ed6c54ca62e3",
            "59803de0635040cb999826a9e52bd793",
            "9e58702ddb7b4a5692da66cddd99e566",
            "71c69f8144da47ab9e1be56049fb021b",
            "811f6d2a21f14e3abe0d0b5e71463e29",
            "8fbfd79e01ab47dd937d1a281b7fe657",
            "13c44438b9bd4f5e88ba30befccccfc5",
            "fd222022eecc4e9e894742765b073778",
            "4b0d7fffadfa4361a736a0df41e89c63",
            "0195d17d6e504c2c9725f4595befdc5d",
            "0eef87277acf43c5addbd38552235e7b",
            "177bb7ff59374bd3bb786846bf29aa34",
            "bdbb754aa26147eebb2db4d883bcc70e",
            "3a11d16f2e144fb6bee2896625c30927",
            "097dd2b17c86469d84e8a67d322bdbda",
            "9ecc54e0ec134461b3e84f0c09208a5f"
          ]
        },
        "id": "0AZp4wCny1Sp",
        "executionInfo": {
          "status": "ok",
          "timestamp": 1748649528103,
          "user_tz": -180,
          "elapsed": 1501,
          "user": {
            "displayName": "vivian lauren",
            "userId": "06741933639622670164"
          }
        },
        "outputId": "93c044bc-08b5-4237-be94-11eeadebca1e"
      },
      "execution_count": 18,
      "outputs": [
        {
          "output_type": "stream",
          "name": "stderr",
          "text": [
            "<ipython-input-18-dacc16486e19>:4: FutureWarning: load_metric is deprecated and will be removed in the next major version of datasets. Use 'evaluate.load' instead, from the new library \ud83e\udd17 Evaluate: https://huggingface.co/docs/evaluate\n",
            "  metric = load_metric(\"squad\")\n"
          ]
        },
        {
          "output_type": "display_data",
          "data": {
            "text/plain": [
              "Downloading builder script:   0%|          | 0.00/1.72k [00:00<?, ?B/s]"
            ],
            "application/vnd.jupyter.widget-view+json": {
              "version_major": 2,
              "version_minor": 0,
              "model_id": "a8ddbd4373b04f909575df7ec8323e49"
            }
          },
          "metadata": {}
        },
        {
          "output_type": "display_data",
          "data": {
            "text/plain": [
              "Downloading extra modules:   0%|          | 0.00/1.11k [00:00<?, ?B/s]"
            ],
            "application/vnd.jupyter.widget-view+json": {
              "version_major": 2,
              "version_minor": 0,
              "model_id": "8fbfd79e01ab47dd937d1a281b7fe657"
            }
          },
          "metadata": {}
        }
      ]
    },
    {
      "cell_type": "code",
      "source": [
        "# sample = train_dataset[0]\n",
        "# print(sample)"
      ],
      "metadata": {
        "id": "rECk1qVBEIAn"
      },
      "execution_count": null,
      "outputs": []
    },
    {
      "cell_type": "code",
      "source": [
        "# print(sample['start_positions'].shape)"
      ],
      "metadata": {
        "id": "_wk3ta0oESsg"
      },
      "execution_count": null,
      "outputs": []
    },
    {
      "cell_type": "code",
      "source": [
        "# print(sample.keys())"
      ],
      "metadata": {
        "id": "TpK5G-PnEcIK"
      },
      "execution_count": null,
      "outputs": []
    },
    {
      "cell_type": "markdown",
      "source": [
        "# load model and define trainer"
      ],
      "metadata": {
        "id": "FfMb6oBRyX0P"
      }
    },
    {
      "cell_type": "code",
      "source": [
        "import torch\n",
        "from transformers import Trainer, TrainingArguments\n",
        "\n",
        "# Ensure you're on GPU\n",
        "device = torch.device('cuda' if torch.cuda.is_available() else 'cpu')\n",
        "print(f\"Using device: {device}\")\n",
        "model = model.to(device)  # Move model to GPU\n",
        "\n",
        "# Define training arguments without wandb\n",
        "training_args = TrainingArguments(\n",
        "    output_dir=\"./content/drive/MyDrive/nlp project/distil_checkpoints\",  # Save model checkpoints\n",
        "    evaluation_strategy=\"epoch\",      # Evaluate after each epoch\n",
        "    save_strategy=\"epoch\",            # Save checkpoint each epoch\n",
        "    save_total_limit=2,               # Keep only the last 2 checkpoints\n",
        "    learning_rate=2e-5,\n",
        "    load_best_model_at_end=True,      # Load best model after training\n",
        "    per_device_train_batch_size=8,\n",
        "    per_device_eval_batch_size=8,\n",
        "    num_train_epochs=3,\n",
        "    weight_decay=0.01,\n",
        "    logging_dir=\"./logs\",\n",
        "    # fp16=True,\n",
        "    logging_steps=10,\n",
        "    save_steps=500,\n",
        "    report_to=\"wandb\"   # \u274c Disables wandb/huggingface logging\n",
        ")\n",
        "\n",
        "# Optional: move datasets to device (not required for Trainer, but included for consistency)\n",
        "# If you defined your dataset using a custom class where tensors are already on GPU, it\u2019s fine.\n",
        "# Otherwise, make sure DataLoader batches are moved to GPU during training.\n",
        "\n",
        "# Initialize Trainer\n",
        "trainer = Trainer(\n",
        "    model=model,\n",
        "    args=training_args,\n",
        "    train_dataset=train_dataset,\n",
        "    eval_dataset=val_dataset,\n",
        "    compute_metrics = compute_metrics\n",
        ")\n",
        "\n",
        "# Start training\n",
        "trainer.train()\n",
        "# Optionally resume from last checkpoint:\n",
        "# trainer.train(resume_from_checkpoint=True)\n"
      ],
      "metadata": {
        "id": "em1FkbIfxr92",
        "colab": {
          "base_uri": "https://localhost:8080/",
          "height": 582
        },
        "executionInfo": {
          "status": "ok",
          "timestamp": 1748184923329,
          "user_tz": -180,
          "elapsed": 3633713,
          "user": {
            "displayName": "vivian lauren",
            "userId": "06741933639622670164"
          }
        },
        "outputId": "ab62e2ff-34c1-4f01-e040-20fb1a078310"
      },
      "execution_count": null,
      "outputs": [
        {
          "metadata": {
            "tags": null
          },
          "name": "stdout",
          "output_type": "stream",
          "text": [
            "Using device: cuda\n"
          ]
        },
        {
          "data": {
            "application/javascript": [
              "\n",
              "        window._wandbApiKey = new Promise((resolve, reject) => {\n",
              "            function loadScript(url) {\n",
              "            return new Promise(function(resolve, reject) {\n",
              "                let newScript = document.createElement(\"script\");\n",
              "                newScript.onerror = reject;\n",
              "                newScript.onload = resolve;\n",
              "                document.body.appendChild(newScript);\n",
              "                newScript.src = url;\n",
              "            });\n",
              "            }\n",
              "            loadScript(\"https://cdn.jsdelivr.net/npm/postmate/build/postmate.min.js\").then(() => {\n",
              "            const iframe = document.createElement('iframe')\n",
              "            iframe.style.cssText = \"width:0;height:0;border:none\"\n",
              "            document.body.appendChild(iframe)\n",
              "            const handshake = new Postmate({\n",
              "                container: iframe,\n",
              "                url: 'https://wandb.ai/authorize'\n",
              "            });\n",
              "            const timeout = setTimeout(() => reject(\"Couldn't auto authenticate\"), 5000)\n",
              "            handshake.then(function(child) {\n",
              "                child.on('authorize', data => {\n",
              "                    clearTimeout(timeout)\n",
              "                    resolve(data)\n",
              "                });\n",
              "            });\n",
              "            })\n",
              "        });\n",
              "    "
            ],
            "text/plain": [
              "<IPython.core.display.Javascript object>"
            ]
          },
          "metadata": {},
          "output_type": "display_data"
        },
        {
          "metadata": {
            "tags": null
          },
          "name": "stderr",
          "output_type": "stream",
          "text": [
            "\u001b[34m\u001b[1mwandb\u001b[0m: Logging into wandb.ai. (Learn how to deploy a W&B server locally: https://wandb.me/wandb-server)\n",
            "\u001b[34m\u001b[1mwandb\u001b[0m: You can find your API key in your browser here: https://wandb.ai/authorize?ref=models\n",
            "wandb: Paste an API key from your profile and hit enter:\u001b[34m\u001b[1mwandb\u001b[0m: \u001b[33mWARNING\u001b[0m If you're specifying your api key in code, ensure this code is not shared publicly.\n",
            "\u001b[34m\u001b[1mwandb\u001b[0m: \u001b[33mWARNING\u001b[0m Consider setting the WANDB_API_KEY environment variable, or running `wandb login` from the command line.\n",
            "\u001b[34m\u001b[1mwandb\u001b[0m: No netrc file found, creating one.\n",
            "\u001b[34m\u001b[1mwandb\u001b[0m: Appending key for api.wandb.ai to your netrc file: /root/.netrc\n",
            "\u001b[34m\u001b[1mwandb\u001b[0m: Currently logged in as: \u001b[33mkajal-pourjalil77\u001b[0m (\u001b[33mkajal-pourjalil77-i-k-niversitesi\u001b[0m) to \u001b[32mhttps://api.wandb.ai\u001b[0m. Use \u001b[1m`wandb login --relogin`\u001b[0m to force relogin\n"
          ]
        },
        {
          "data": {
            "text/html": [
              "Tracking run with wandb version 0.19.11"
            ],
            "text/plain": [
              "<IPython.core.display.HTML object>"
            ]
          },
          "metadata": {},
          "output_type": "display_data"
        },
        {
          "data": {
            "text/html": [
              "Run data is saved locally in <code>/content/wandb/run-20250525_120113-rfsmv1tx</code>"
            ],
            "text/plain": [
              "<IPython.core.display.HTML object>"
            ]
          },
          "metadata": {},
          "output_type": "display_data"
        },
        {
          "data": {
            "text/html": [
              "Syncing run <strong><a href='https://wandb.ai/kajal-pourjalil77-i-k-niversitesi/huggingface/runs/rfsmv1tx' target=\"_blank\">jolly-aardvark-6</a></strong> to <a href='https://wandb.ai/kajal-pourjalil77-i-k-niversitesi/huggingface' target=\"_blank\">Weights & Biases</a> (<a href='https://wandb.me/developer-guide' target=\"_blank\">docs</a>)<br>"
            ],
            "text/plain": [
              "<IPython.core.display.HTML object>"
            ]
          },
          "metadata": {},
          "output_type": "display_data"
        },
        {
          "data": {
            "text/html": [
              " View project at <a href='https://wandb.ai/kajal-pourjalil77-i-k-niversitesi/huggingface' target=\"_blank\">https://wandb.ai/kajal-pourjalil77-i-k-niversitesi/huggingface</a>"
            ],
            "text/plain": [
              "<IPython.core.display.HTML object>"
            ]
          },
          "metadata": {},
          "output_type": "display_data"
        },
        {
          "data": {
            "text/html": [
              " View run at <a href='https://wandb.ai/kajal-pourjalil77-i-k-niversitesi/huggingface/runs/rfsmv1tx' target=\"_blank\">https://wandb.ai/kajal-pourjalil77-i-k-niversitesi/huggingface/runs/rfsmv1tx</a>"
            ],
            "text/plain": [
              "<IPython.core.display.HTML object>"
            ]
          },
          "metadata": {},
          "output_type": "display_data"
        },
        {
          "data": {
            "text/html": [
              "\n",
              "    <div>\n",
              "      \n",
              "      <progress value='15803' max='24207' style='width:300px; height:20px; vertical-align: middle;'></progress>\n",
              "      [15803/24207 1:53:30 < 1:00:22, 2.32 it/s, Epoch 1.96/3]\n",
              "    </div>\n",
              "    <table border=\"1\" class=\"dataframe\">\n",
              "  <thead>\n",
              " <tr style=\"text-align: left;\">\n",
              "      <th>Epoch</th>\n",
              "      <th>Training Loss</th>\n",
              "      <th>Validation Loss</th>\n",
              "      <th>Start Accuracy</th>\n",
              "      <th>End Accuracy</th>\n",
              "    </tr>\n",
              "  </thead>\n",
              "  <tbody>\n",
              "    <tr>\n",
              "      <td>1</td>\n",
              "      <td>4.121600</td>\n",
              "      <td>1.708325</td>\n",
              "      <td>1.000000</td>\n",
              "      <td>0.000000</td>\n",
              "    </tr>\n",
              "  </tbody>\n",
              "</table><p>"
            ],
            "text/plain": [
              "<IPython.core.display.HTML object>"
            ]
          },
          "metadata": {},
          "output_type": "display_data"
        },
        {
          "output_type": "display_data",
          "data": {
            "text/plain": [
              "<IPython.core.display.HTML object>"
            ],
            "text/html": [
              "\n",
              "    <div>\n",
              "      \n",
              "      <progress value='24207' max='24207' style='width:300px; height:20px; vertical-align: middle;'></progress>\n",
              "      [24207/24207 2:54:05, Epoch 3/3]\n",
              "    </div>\n",
              "    <table border=\"1\" class=\"dataframe\">\n",
              "  <thead>\n",
              " <tr style=\"text-align: left;\">\n",
              "      <th>Epoch</th>\n",
              "      <th>Training Loss</th>\n",
              "      <th>Validation Loss</th>\n",
              "      <th>Start Accuracy</th>\n",
              "      <th>End Accuracy</th>\n",
              "    </tr>\n",
              "  </thead>\n",
              "  <tbody>\n",
              "    <tr>\n",
              "      <td>1</td>\n",
              "      <td>4.121600</td>\n",
              "      <td>1.708325</td>\n",
              "      <td>1.000000</td>\n",
              "      <td>0.000000</td>\n",
              "    </tr>\n",
              "    <tr>\n",
              "      <td>2</td>\n",
              "      <td>3.666900</td>\n",
              "      <td>1.799927</td>\n",
              "      <td>0.510000</td>\n",
              "      <td>0.000000</td>\n",
              "    </tr>\n",
              "    <tr>\n",
              "      <td>3</td>\n",
              "      <td>3.612600</td>\n",
              "      <td>1.857204</td>\n",
              "      <td>0.510000</td>\n",
              "      <td>0.000000</td>\n",
              "    </tr>\n",
              "  </tbody>\n",
              "</table><p>"
            ]
          },
          "metadata": {}
        },
        {
          "output_type": "execute_result",
          "data": {
            "text/plain": [
              "TrainOutput(global_step=24207, training_loss=3.989294898915272, metrics={'train_runtime': 10464.6002, 'train_samples_per_second': 18.505, 'train_steps_per_second': 2.313, 'total_flos': 5.06001169419264e+16, 'train_loss': 3.989294898915272, 'epoch': 3.0})"
            ]
          },
          "metadata": {},
          "execution_count": 22
        }
      ]
    },
    {
      "cell_type": "markdown",
      "source": [
        "# model evaluation"
      ],
      "metadata": {
        "id": "ImWMNGe0yqny"
      }
    },
    {
      "cell_type": "code",
      "source": [
        "eval_results = trainer.evaluate()\n",
        "print(\"Evaluation Results:\", eval_results)"
      ],
      "metadata": {
        "id": "T5z2SHuHxr8H",
        "colab": {
          "base_uri": "https://localhost:8080/",
          "height": 76
        },
        "executionInfo": {
          "status": "ok",
          "timestamp": 1748184938494,
          "user_tz": -180,
          "elapsed": 400,
          "user": {
            "displayName": "vivian lauren",
            "userId": "06741933639622670164"
          }
        },
        "outputId": "2ad46a11-9e13-4048-df5d-4c38a804ddb9"
      },
      "execution_count": null,
      "outputs": [
        {
          "output_type": "display_data",
          "data": {
            "text/plain": [
              "<IPython.core.display.HTML object>"
            ],
            "text/html": [
              "\n",
              "    <div>\n",
              "      \n",
              "      <progress value='13' max='13' style='width:300px; height:20px; vertical-align: middle;'></progress>\n",
              "      [13/13 00:00]\n",
              "    </div>\n",
              "    "
            ]
          },
          "metadata": {}
        },
        {
          "output_type": "stream",
          "name": "stdout",
          "text": [
            "Evaluation Results: {'eval_loss': 1.7083247900009155, 'eval_start_accuracy': 1.0, 'eval_end_accuracy': 0.0, 'eval_runtime': 0.184, 'eval_samples_per_second': 543.494, 'eval_steps_per_second': 70.654, 'epoch': 3.0}\n"
          ]
        }
      ]
    },
    {
      "cell_type": "markdown",
      "source": [
        "# save the model and tokenizer"
      ],
      "metadata": {
        "id": "lxciM8mTyuzV"
      }
    },
    {
      "cell_type": "code",
      "source": [
        "model_path = \"./drive/MyDrive/nlp project/final_model_distil\"\n",
        "trainer.save_model(model_path)\n",
        "tokenizer.save_pretrained(model_path)"
      ],
      "metadata": {
        "id": "hs4ED6xixr49",
        "colab": {
          "base_uri": "https://localhost:8080/",
          "height": 328
        },
        "executionInfo": {
          "status": "error",
          "timestamp": 1748184954809,
          "user_tz": -180,
          "elapsed": 11026,
          "user": {
            "displayName": "vivian lauren",
            "userId": "06741933639622670164"
          }
        },
        "outputId": "4bc88f12-8684-452c-c3ed-5c26aec3d0ed"
      },
      "execution_count": null,
      "outputs": [
        {
          "output_type": "error",
          "ename": "KeyboardInterrupt",
          "evalue": "",
          "traceback": [
            "\u001b[0;31m---------------------------------------------------------------------------\u001b[0m",
            "\u001b[0;31mKeyboardInterrupt\u001b[0m                         Traceback (most recent call last)",
            "\u001b[0;32m<ipython-input-24-0e6b4747b6fc>\u001b[0m in \u001b[0;36m<cell line: 0>\u001b[0;34m()\u001b[0m\n\u001b[1;32m      1\u001b[0m \u001b[0mmodel_path\u001b[0m \u001b[0;34m=\u001b[0m \u001b[0;34m\"./drive/MyDrive/nlp project/final_model_distil\"\u001b[0m\u001b[0;34m\u001b[0m\u001b[0;34m\u001b[0m\u001b[0m\n\u001b[0;32m----> 2\u001b[0;31m \u001b[0mtrainer\u001b[0m\u001b[0;34m.\u001b[0m\u001b[0msave_model\u001b[0m\u001b[0;34m(\u001b[0m\u001b[0mmodel_path\u001b[0m\u001b[0;34m)\u001b[0m\u001b[0;34m\u001b[0m\u001b[0;34m\u001b[0m\u001b[0m\n\u001b[0m\u001b[1;32m      3\u001b[0m \u001b[0mtokenizer\u001b[0m\u001b[0;34m.\u001b[0m\u001b[0msave_pretrained\u001b[0m\u001b[0;34m(\u001b[0m\u001b[0mmodel_path\u001b[0m\u001b[0;34m)\u001b[0m\u001b[0;34m\u001b[0m\u001b[0;34m\u001b[0m\u001b[0m\n",
            "\u001b[0;32m/usr/local/lib/python3.11/dist-packages/transformers/trainer.py\u001b[0m in \u001b[0;36msave_model\u001b[0;34m(self, output_dir, _internal_call)\u001b[0m\n\u001b[1;32m   2884\u001b[0m \u001b[0;34m\u001b[0m\u001b[0m\n\u001b[1;32m   2885\u001b[0m         \u001b[0;32melif\u001b[0m \u001b[0mself\u001b[0m\u001b[0;34m.\u001b[0m\u001b[0margs\u001b[0m\u001b[0;34m.\u001b[0m\u001b[0mshould_save\u001b[0m\u001b[0;34m:\u001b[0m\u001b[0;34m\u001b[0m\u001b[0;34m\u001b[0m\u001b[0m\n\u001b[0;32m-> 2886\u001b[0;31m             \u001b[0mself\u001b[0m\u001b[0;34m.\u001b[0m\u001b[0m_save\u001b[0m\u001b[0;34m(\u001b[0m\u001b[0moutput_dir\u001b[0m\u001b[0;34m)\u001b[0m\u001b[0;34m\u001b[0m\u001b[0;34m\u001b[0m\u001b[0m\n\u001b[0m\u001b[1;32m   2887\u001b[0m \u001b[0;34m\u001b[0m\u001b[0m\n\u001b[1;32m   2888\u001b[0m         \u001b[0;31m# Push to the Hub when `save_model` is called by the user.\u001b[0m\u001b[0;34m\u001b[0m\u001b[0;34m\u001b[0m\u001b[0m\n",
            "\u001b[0;32m/usr/local/lib/python3.11/dist-packages/transformers/trainer.py\u001b[0m in \u001b[0;36m_save\u001b[0;34m(self, output_dir, state_dict)\u001b[0m\n\u001b[1;32m   2956\u001b[0m                     \u001b[0mtorch\u001b[0m\u001b[0;34m.\u001b[0m\u001b[0msave\u001b[0m\u001b[0;34m(\u001b[0m\u001b[0mstate_dict\u001b[0m\u001b[0;34m,\u001b[0m \u001b[0mos\u001b[0m\u001b[0;34m.\u001b[0m\u001b[0mpath\u001b[0m\u001b[0;34m.\u001b[0m\u001b[0mjoin\u001b[0m\u001b[0;34m(\u001b[0m\u001b[0moutput_dir\u001b[0m\u001b[0;34m,\u001b[0m \u001b[0mWEIGHTS_NAME\u001b[0m\u001b[0;34m)\u001b[0m\u001b[0;34m)\u001b[0m\u001b[0;34m\u001b[0m\u001b[0;34m\u001b[0m\u001b[0m\n\u001b[1;32m   2957\u001b[0m         \u001b[0;32melse\u001b[0m\u001b[0;34m:\u001b[0m\u001b[0;34m\u001b[0m\u001b[0;34m\u001b[0m\u001b[0m\n\u001b[0;32m-> 2958\u001b[0;31m             self.model.save_pretrained(\n\u001b[0m\u001b[1;32m   2959\u001b[0m                 \u001b[0moutput_dir\u001b[0m\u001b[0;34m,\u001b[0m \u001b[0mstate_dict\u001b[0m\u001b[0;34m=\u001b[0m\u001b[0mstate_dict\u001b[0m\u001b[0;34m,\u001b[0m \u001b[0msafe_serialization\u001b[0m\u001b[0;34m=\u001b[0m\u001b[0mself\u001b[0m\u001b[0;34m.\u001b[0m\u001b[0margs\u001b[0m\u001b[0;34m.\u001b[0m\u001b[0msave_safetensors\u001b[0m\u001b[0;34m\u001b[0m\u001b[0;34m\u001b[0m\u001b[0m\n\u001b[1;32m   2960\u001b[0m             )\n",
            "\u001b[0;32m/usr/local/lib/python3.11/dist-packages/transformers/modeling_utils.py\u001b[0m in \u001b[0;36msave_pretrained\u001b[0;34m(self, save_directory, is_main_process, state_dict, save_function, push_to_hub, max_shard_size, safe_serialization, variant, token, save_peft_format, **kwargs)\u001b[0m\n\u001b[1;32m   2484\u001b[0m                 \u001b[0;31m# At some point we will need to deal better with save_function (used for TPU and other distributed\u001b[0m\u001b[0;34m\u001b[0m\u001b[0;34m\u001b[0m\u001b[0m\n\u001b[1;32m   2485\u001b[0m                 \u001b[0;31m# joyfulness), but for now this enough.\u001b[0m\u001b[0;34m\u001b[0m\u001b[0;34m\u001b[0m\u001b[0m\n\u001b[0;32m-> 2486\u001b[0;31m                 \u001b[0msafe_save_file\u001b[0m\u001b[0;34m(\u001b[0m\u001b[0mshard\u001b[0m\u001b[0;34m,\u001b[0m \u001b[0mos\u001b[0m\u001b[0;34m.\u001b[0m\u001b[0mpath\u001b[0m\u001b[0;34m.\u001b[0m\u001b[0mjoin\u001b[0m\u001b[0;34m(\u001b[0m\u001b[0msave_directory\u001b[0m\u001b[0;34m,\u001b[0m \u001b[0mshard_file\u001b[0m\u001b[0;34m)\u001b[0m\u001b[0;34m,\u001b[0m \u001b[0mmetadata\u001b[0m\u001b[0;34m=\u001b[0m\u001b[0;34m{\u001b[0m\u001b[0;34m\"format\"\u001b[0m\u001b[0;34m:\u001b[0m \u001b[0;34m\"pt\"\u001b[0m\u001b[0;34m}\u001b[0m\u001b[0;34m)\u001b[0m\u001b[0;34m\u001b[0m\u001b[0;34m\u001b[0m\u001b[0m\n\u001b[0m\u001b[1;32m   2487\u001b[0m             \u001b[0;32melse\u001b[0m\u001b[0;34m:\u001b[0m\u001b[0;34m\u001b[0m\u001b[0;34m\u001b[0m\u001b[0m\n\u001b[1;32m   2488\u001b[0m                 \u001b[0msave_function\u001b[0m\u001b[0;34m(\u001b[0m\u001b[0mshard\u001b[0m\u001b[0;34m,\u001b[0m \u001b[0mos\u001b[0m\u001b[0;34m.\u001b[0m\u001b[0mpath\u001b[0m\u001b[0;34m.\u001b[0m\u001b[0mjoin\u001b[0m\u001b[0;34m(\u001b[0m\u001b[0msave_directory\u001b[0m\u001b[0;34m,\u001b[0m \u001b[0mshard_file\u001b[0m\u001b[0;34m)\u001b[0m\u001b[0;34m)\u001b[0m\u001b[0;34m\u001b[0m\u001b[0;34m\u001b[0m\u001b[0m\n",
            "\u001b[0;32m/usr/local/lib/python3.11/dist-packages/safetensors/torch.py\u001b[0m in \u001b[0;36msave_file\u001b[0;34m(tensors, filename, metadata)\u001b[0m\n\u001b[1;32m    284\u001b[0m     \u001b[0;31m`\u001b[0m\u001b[0;31m`\u001b[0m\u001b[0;31m`\u001b[0m\u001b[0;34m\u001b[0m\u001b[0;34m\u001b[0m\u001b[0m\n\u001b[1;32m    285\u001b[0m     \"\"\"\n\u001b[0;32m--> 286\u001b[0;31m     \u001b[0mserialize_file\u001b[0m\u001b[0;34m(\u001b[0m\u001b[0m_flatten\u001b[0m\u001b[0;34m(\u001b[0m\u001b[0mtensors\u001b[0m\u001b[0;34m)\u001b[0m\u001b[0;34m,\u001b[0m \u001b[0mfilename\u001b[0m\u001b[0;34m,\u001b[0m \u001b[0mmetadata\u001b[0m\u001b[0;34m=\u001b[0m\u001b[0mmetadata\u001b[0m\u001b[0;34m)\u001b[0m\u001b[0;34m\u001b[0m\u001b[0;34m\u001b[0m\u001b[0m\n\u001b[0m\u001b[1;32m    287\u001b[0m \u001b[0;34m\u001b[0m\u001b[0m\n\u001b[1;32m    288\u001b[0m \u001b[0;34m\u001b[0m\u001b[0m\n",
            "\u001b[0;31mKeyboardInterrupt\u001b[0m: "
          ]
        }
      ]
    },
    {
      "cell_type": "code",
      "source": [
        "model_path = \"./drive/MyDrive/nlp project/distil_model_wandb\"\n",
        "trainer.save_model(model_path)\n",
        "tokenizer.save_pretrained(model_path)"
      ],
      "metadata": {
        "id": "1r0Or9i6nZzU",
        "colab": {
          "base_uri": "https://localhost:8080/"
        },
        "executionInfo": {
          "status": "ok",
          "timestamp": 1748184959892,
          "user_tz": -180,
          "elapsed": 1543,
          "user": {
            "displayName": "vivian lauren",
            "userId": "06741933639622670164"
          }
        },
        "outputId": "ba5f697e-ed8c-4d5a-d95f-7bc37fd204ec"
      },
      "execution_count": null,
      "outputs": [
        {
          "output_type": "execute_result",
          "data": {
            "text/plain": [
              "('./drive/MyDrive/nlp project/distil_model_wandb/tokenizer_config.json',\n",
              " './drive/MyDrive/nlp project/distil_model_wandb/special_tokens_map.json',\n",
              " './drive/MyDrive/nlp project/distil_model_wandb/vocab.txt',\n",
              " './drive/MyDrive/nlp project/distil_model_wandb/added_tokens.json',\n",
              " './drive/MyDrive/nlp project/distil_model_wandb/tokenizer.json')"
            ]
          },
          "metadata": {},
          "execution_count": 25
        }
      ]
    },
    {
      "cell_type": "markdown",
      "source": [
        "# load the model and tokenizer"
      ],
      "metadata": {
        "id": "p94Vvh-OyxD5"
      }
    },
    {
      "cell_type": "code",
      "source": [
        "from transformers import AutoTokenizer, AutoModelForSequenceClassification\n",
        "\n",
        "model_path = \"/content/drive/MyDrive/nlp project/distil_model_wandb\"\n",
        "\n",
        "# Load tokenizer\n",
        "tokenizer = AutoTokenizer.from_pretrained(model_path)\n",
        "\n",
        "# Load model\n",
        "model = AutoModelForSequenceClassification.from_pretrained(model_path)"
      ],
      "metadata": {
        "id": "RWyGrVO7xr2m",
        "colab": {
          "base_uri": "https://localhost:8080/"
        },
        "executionInfo": {
          "status": "ok",
          "timestamp": 1748649600755,
          "user_tz": -180,
          "elapsed": 8488,
          "user": {
            "displayName": "vivian lauren",
            "userId": "06741933639622670164"
          }
        },
        "outputId": "35041c5d-19c3-4b1f-869a-f3228ba5d6fa"
      },
      "execution_count": 19,
      "outputs": [
        {
          "output_type": "stream",
          "name": "stderr",
          "text": [
            "Some weights of BertForSequenceClassification were not initialized from the model checkpoint at /content/drive/MyDrive/nlp project/distil_model_wandb and are newly initialized: ['bert.pooler.dense.bias', 'bert.pooler.dense.weight', 'classifier.bias', 'classifier.weight']\n",
            "You should probably TRAIN this model on a down-stream task to be able to use it for predictions and inference.\n"
          ]
        }
      ]
    },
    {
      "cell_type": "markdown",
      "source": [
        "# getting predictions from the validation set"
      ],
      "metadata": {
        "id": "9C7KjCt-y6Mf"
      }
    },
    {
      "cell_type": "code",
      "source": [
        "predictions = trainer.predict(val_dataset)\n",
        "logits = predictions[0]\n",
        "labels = predictions[1]\n",
        "preds = np.argmax(logits, axis = -1)"
      ],
      "metadata": {
        "id": "Qk9QXmMbxrzr",
        "colab": {
          "base_uri": "https://localhost:8080/",
          "height": 17
        },
        "executionInfo": {
          "status": "ok",
          "timestamp": 1747637034053,
          "user_tz": -180,
          "elapsed": 23137,
          "user": {
            "displayName": "vivian lauren",
            "userId": "06741933639622670164"
          }
        },
        "outputId": "8dd5f00c-d133-4a2c-ea90-90282a473f59"
      },
      "execution_count": null,
      "outputs": [
        {
          "output_type": "display_data",
          "data": {
            "text/plain": [
              "<IPython.core.display.HTML object>"
            ],
            "text/html": []
          },
          "metadata": {}
        }
      ]
    },
    {
      "cell_type": "markdown",
      "source": [
        "# show classification report and confusion matrix"
      ],
      "metadata": {
        "id": "LuGFb8lyy_hJ"
      }
    },
    {
      "cell_type": "code",
      "source": [
        "from sklearn.metrics import classification_report, confusion_matrix\n",
        "import matplotlib.pyplot as plt\n",
        "import seaborn as sns\n",
        "\n",
        "# Flatten the labels and predictions\n",
        "labels_flat = np.array(labels).flatten()\n",
        "preds_flat = np.array(preds).flatten()\n",
        "\n",
        "# Classification report\n",
        "print(classification_report(labels_flat, preds_flat))\n",
        "\n",
        "# Confusion matrix\n",
        "cm = confusion_matrix(labels_flat, preds_flat)\n",
        "sns.heatmap(cm, annot=True, fmt=\"d\", cmap=\"Blues\")\n",
        "plt.xlabel(\"Predicted\")\n",
        "plt.ylabel(\"Actual\")\n",
        "plt.title(\"Confusion Matrix\")\n",
        "plt.show()"
      ],
      "metadata": {
        "id": "r1lpZGTxxrw0",
        "colab": {
          "base_uri": "https://localhost:8080/",
          "height": 1000
        },
        "executionInfo": {
          "status": "ok",
          "timestamp": 1747637207623,
          "user_tz": -180,
          "elapsed": 149804,
          "user": {
            "displayName": "vivian lauren",
            "userId": "06741933639622670164"
          }
        },
        "outputId": "26600ae4-411e-4049-9df2-4825b6fb26dd"
      },
      "execution_count": null,
      "outputs": [
        {
          "output_type": "stream",
          "name": "stderr",
          "text": [
            "/usr/local/lib/python3.11/dist-packages/sklearn/metrics/_classification.py:1565: UndefinedMetricWarning: Precision is ill-defined and being set to 0.0 in labels with no predicted samples. Use `zero_division` parameter to control this behavior.\n",
            "  _warn_prf(average, modifier, f\"{metric.capitalize()} is\", len(result))\n",
            "/usr/local/lib/python3.11/dist-packages/sklearn/metrics/_classification.py:1565: UndefinedMetricWarning: Recall is ill-defined and being set to 0.0 in labels with no true samples. Use `zero_division` parameter to control this behavior.\n",
            "  _warn_prf(average, modifier, f\"{metric.capitalize()} is\", len(result))\n",
            "/usr/local/lib/python3.11/dist-packages/sklearn/metrics/_classification.py:1565: UndefinedMetricWarning: Precision is ill-defined and being set to 0.0 in labels with no predicted samples. Use `zero_division` parameter to control this behavior.\n",
            "  _warn_prf(average, modifier, f\"{metric.capitalize()} is\", len(result))\n",
            "/usr/local/lib/python3.11/dist-packages/sklearn/metrics/_classification.py:1565: UndefinedMetricWarning: Recall is ill-defined and being set to 0.0 in labels with no true samples. Use `zero_division` parameter to control this behavior.\n",
            "  _warn_prf(average, modifier, f\"{metric.capitalize()} is\", len(result))\n",
            "/usr/local/lib/python3.11/dist-packages/sklearn/metrics/_classification.py:1565: UndefinedMetricWarning: Precision is ill-defined and being set to 0.0 in labels with no predicted samples. Use `zero_division` parameter to control this behavior.\n",
            "  _warn_prf(average, modifier, f\"{metric.capitalize()} is\", len(result))\n",
            "/usr/local/lib/python3.11/dist-packages/sklearn/metrics/_classification.py:1565: UndefinedMetricWarning: Recall is ill-defined and being set to 0.0 in labels with no true samples. Use `zero_division` parameter to control this behavior.\n",
            "  _warn_prf(average, modifier, f\"{metric.capitalize()} is\", len(result))\n"
          ]
        },
        {
          "output_type": "stream",
          "name": "stdout",
          "text": [
            "              precision    recall  f1-score   support\n",
            "\n",
            "           0       0.00      0.00      0.00       607\n",
            "           1       0.19      0.22      0.20       221\n",
            "           2       0.22      0.08      0.12       138\n",
            "           3       0.04      0.01      0.01       143\n",
            "           4       0.27      0.05      0.08       125\n",
            "           5       0.00      0.00      0.00       115\n",
            "           6       0.00      0.00      0.00       102\n",
            "           7       0.00      0.00      0.00        99\n",
            "           8       0.00      0.00      0.00        87\n",
            "           9       1.00      0.02      0.04        97\n",
            "          10       0.00      0.00      0.00        71\n",
            "          11       0.00      0.00      0.00        79\n",
            "          12       0.00      0.00      0.00        63\n",
            "          13       0.06      0.02      0.03        61\n",
            "          14       0.12      0.03      0.05        70\n",
            "          15       0.00      0.00      0.00        55\n",
            "          16       0.13      0.07      0.09        59\n",
            "          17       0.12      0.10      0.11        78\n",
            "          18       0.15      0.17      0.16        64\n",
            "          19       0.12      0.21      0.15        82\n",
            "          20       0.09      0.11      0.10        95\n",
            "          21       0.08      0.14      0.10       106\n",
            "          22       0.12      0.20      0.15        99\n",
            "          23       0.13      0.13      0.13       105\n",
            "          24       0.08      0.11      0.09       114\n",
            "          25       0.08      0.17      0.11       121\n",
            "          26       0.09      0.12      0.10       120\n",
            "          27       0.12      0.16      0.13       148\n",
            "          28       0.07      0.15      0.09       133\n",
            "          29       0.06      0.16      0.09       122\n",
            "          30       0.10      0.13      0.11       136\n",
            "          31       0.16      0.18      0.17       142\n",
            "          32       0.13      0.21      0.16       147\n",
            "          33       0.11      0.20      0.15       154\n",
            "          34       0.13      0.13      0.13       155\n",
            "          35       0.10      0.13      0.12       164\n",
            "          36       0.10      0.19      0.13       147\n",
            "          37       0.05      0.13      0.08       127\n",
            "          38       0.08      0.15      0.10       156\n",
            "          39       0.12      0.13      0.12       164\n",
            "          40       0.11      0.17      0.14       157\n",
            "          41       0.12      0.15      0.13       163\n",
            "          42       0.08      0.14      0.10       146\n",
            "          43       0.11      0.18      0.14       159\n",
            "          44       0.09      0.13      0.11       164\n",
            "          45       0.09      0.17      0.12       128\n",
            "          46       0.06      0.10      0.07       142\n",
            "          47       0.13      0.17      0.15       167\n",
            "          48       0.04      0.09      0.06       126\n",
            "          49       0.04      0.07      0.05       119\n",
            "          50       0.07      0.10      0.08       109\n",
            "          51       0.11      0.14      0.12       122\n",
            "          52       0.08      0.10      0.09       134\n",
            "          53       0.08      0.11      0.09       154\n",
            "          54       0.06      0.10      0.08       155\n",
            "          55       0.09      0.15      0.11       137\n",
            "          56       0.08      0.10      0.09       124\n",
            "          57       0.03      0.06      0.04       103\n",
            "          58       0.12      0.16      0.13       147\n",
            "          59       0.07      0.13      0.09       116\n",
            "          60       0.08      0.08      0.08       131\n",
            "          61       0.06      0.10      0.07       133\n",
            "          62       0.07      0.10      0.08       116\n",
            "          63       0.05      0.06      0.06       114\n",
            "          64       0.10      0.07      0.08       118\n",
            "          65       0.06      0.08      0.07       112\n",
            "          66       0.09      0.10      0.09       144\n",
            "          67       0.08      0.11      0.09       123\n",
            "          68       0.12      0.10      0.11       110\n",
            "          69       0.09      0.09      0.09       127\n",
            "          70       0.05      0.08      0.06        88\n",
            "          71       0.06      0.10      0.08        96\n",
            "          72       0.09      0.12      0.10       112\n",
            "          73       0.09      0.11      0.10       114\n",
            "          74       0.09      0.10      0.10       116\n",
            "          75       0.09      0.09      0.09        87\n",
            "          76       0.08      0.06      0.07       102\n",
            "          77       0.09      0.07      0.08       111\n",
            "          78       0.17      0.15      0.16       105\n",
            "          79       0.04      0.03      0.04       115\n",
            "          80       0.10      0.12      0.11       121\n",
            "          81       0.13      0.09      0.11       108\n",
            "          82       0.06      0.06      0.06        96\n",
            "          83       0.07      0.07      0.07        90\n",
            "          84       0.12      0.10      0.11        98\n",
            "          85       0.08      0.07      0.07       110\n",
            "          86       0.03      0.02      0.03        89\n",
            "          87       0.10      0.05      0.07        94\n",
            "          88       0.04      0.02      0.03        95\n",
            "          89       0.05      0.05      0.05        98\n",
            "          90       0.09      0.09      0.09       103\n",
            "          91       0.09      0.04      0.05       113\n",
            "          92       0.06      0.05      0.06       110\n",
            "          93       0.05      0.05      0.05        98\n",
            "          94       0.07      0.04      0.05        93\n",
            "          95       0.02      0.03      0.02        65\n",
            "          96       0.06      0.04      0.05       110\n",
            "          97       0.06      0.04      0.05        94\n",
            "          98       0.16      0.12      0.14        83\n",
            "          99       0.06      0.04      0.05        96\n",
            "         100       0.02      0.05      0.03        63\n",
            "         101       0.02      0.03      0.03       105\n",
            "         102       0.12      0.09      0.10       101\n",
            "         103       0.13      0.10      0.11        91\n",
            "         104       0.00      0.00      0.00        87\n",
            "         105       0.10      0.11      0.10        85\n",
            "         106       0.11      0.07      0.08        86\n",
            "         107       0.08      0.06      0.07        72\n",
            "         108       0.04      0.02      0.03        87\n",
            "         109       0.10      0.08      0.09        75\n",
            "         110       0.06      0.11      0.07        54\n",
            "         111       0.02      0.01      0.01        92\n",
            "         112       0.03      0.01      0.02        73\n",
            "         113       0.09      0.07      0.08        75\n",
            "         114       0.12      0.14      0.13        74\n",
            "         115       0.07      0.10      0.08        70\n",
            "         116       0.15      0.09      0.12        85\n",
            "         117       0.08      0.07      0.07        70\n",
            "         118       0.04      0.03      0.03        73\n",
            "         119       0.05      0.04      0.04        73\n",
            "         120       0.04      0.05      0.04        64\n",
            "         121       0.08      0.03      0.04        66\n",
            "         122       0.03      0.01      0.02        70\n",
            "         123       0.06      0.06      0.06        52\n",
            "         124       0.13      0.07      0.09        81\n",
            "         125       0.09      0.06      0.07        66\n",
            "         126       0.04      0.04      0.04        67\n",
            "         127       0.04      0.03      0.03        67\n",
            "         128       0.02      0.02      0.02        59\n",
            "         129       0.17      0.08      0.11        63\n",
            "         130       0.12      0.07      0.09        73\n",
            "         131       0.02      0.02      0.02        54\n",
            "         132       0.07      0.04      0.05        67\n",
            "         133       0.11      0.07      0.09        55\n",
            "         134       0.11      0.07      0.08        58\n",
            "         135       0.06      0.05      0.06        55\n",
            "         136       0.05      0.04      0.04        55\n",
            "         137       0.06      0.05      0.06        38\n",
            "         138       0.05      0.03      0.04        61\n",
            "         139       0.05      0.04      0.05        45\n",
            "         140       0.06      0.04      0.05        45\n",
            "         141       0.02      0.02      0.02        43\n",
            "         142       0.09      0.06      0.07        52\n",
            "         143       0.00      0.00      0.00        29\n",
            "         144       0.00      0.00      0.00        54\n",
            "         145       0.08      0.07      0.07        44\n",
            "         146       0.07      0.05      0.06        41\n",
            "         147       0.00      0.00      0.00        40\n",
            "         148       0.05      0.05      0.05        39\n",
            "         149       0.12      0.04      0.06        46\n",
            "         150       0.09      0.04      0.06        50\n",
            "         151       0.11      0.04      0.06        47\n",
            "         152       0.12      0.05      0.07        43\n",
            "         153       0.08      0.05      0.06        38\n",
            "         154       0.03      0.03      0.03        38\n",
            "         155       0.11      0.05      0.07        39\n",
            "         156       0.03      0.03      0.03        34\n",
            "         157       0.07      0.03      0.04        34\n",
            "         158       0.00      0.00      0.00        31\n",
            "         159       0.24      0.13      0.17        30\n",
            "         160       0.08      0.07      0.08        28\n",
            "         161       0.00      0.00      0.00        28\n",
            "         162       0.07      0.03      0.04        37\n",
            "         163       0.00      0.00      0.00        31\n",
            "         164       0.13      0.06      0.09        31\n",
            "         165       0.17      0.05      0.08        20\n",
            "         166       0.00      0.00      0.00        22\n",
            "         167       0.00      0.00      0.00        30\n",
            "         168       0.00      0.00      0.00        14\n",
            "         169       0.00      0.00      0.00        29\n",
            "         170       0.11      0.05      0.06        22\n",
            "         171       0.00      0.00      0.00        18\n",
            "         172       0.23      0.27      0.25        22\n",
            "         173       0.00      0.00      0.00        16\n",
            "         174       0.00      0.00      0.00        24\n",
            "         175       0.00      0.00      0.00        13\n",
            "         176       0.00      0.00      0.00        18\n",
            "         177       0.00      0.00      0.00        21\n",
            "         178       0.25      0.09      0.13        22\n",
            "         179       0.12      0.03      0.05        31\n",
            "         180       0.00      0.00      0.00        15\n",
            "         181       0.00      0.00      0.00        18\n",
            "         182       0.20      0.06      0.10        16\n",
            "         183       0.08      0.06      0.07        18\n",
            "         184       0.00      0.00      0.00        17\n",
            "         185       0.00      0.00      0.00        14\n",
            "         186       0.00      0.00      0.00        17\n",
            "         187       0.00      0.00      0.00        18\n",
            "         188       0.10      0.08      0.09        12\n",
            "         189       0.00      0.00      0.00        15\n",
            "         190       0.25      0.07      0.11        15\n",
            "         191       0.06      0.07      0.06        15\n",
            "         192       0.00      0.00      0.00        13\n",
            "         193       0.33      0.07      0.11        15\n",
            "         194       0.00      0.00      0.00        13\n",
            "         195       0.00      0.00      0.00        14\n",
            "         196       0.00      0.00      0.00        14\n",
            "         197       0.00      0.00      0.00         9\n",
            "         198       0.09      0.06      0.07        18\n",
            "         199       0.00      0.00      0.00        14\n",
            "         200       0.00      0.00      0.00        18\n",
            "         201       0.25      0.14      0.18         7\n",
            "         202       0.00      0.00      0.00        20\n",
            "         203       0.00      0.00      0.00         7\n",
            "         204       0.00      0.00      0.00        17\n",
            "         205       0.00      0.00      0.00         8\n",
            "         206       0.00      0.00      0.00         8\n",
            "         207       0.00      0.00      0.00        13\n",
            "         208       0.00      0.00      0.00         9\n",
            "         209       0.00      0.00      0.00         4\n",
            "         210       0.10      0.17      0.12         6\n",
            "         211       0.00      0.00      0.00         9\n",
            "         212       0.00      0.00      0.00        11\n",
            "         213       0.00      0.00      0.00         7\n",
            "         214       0.00      0.00      0.00        12\n",
            "         215       0.00      0.00      0.00         6\n",
            "         216       0.00      0.00      0.00         8\n",
            "         217       0.00      0.00      0.00         5\n",
            "         218       0.00      0.00      0.00        12\n",
            "         219       0.00      0.00      0.00         6\n",
            "         220       0.09      0.09      0.09        11\n",
            "         221       0.00      0.00      0.00         7\n",
            "         222       0.00      0.00      0.00         8\n",
            "         223       0.00      0.00      0.00         8\n",
            "         224       0.00      0.00      0.00         3\n",
            "         225       0.00      0.00      0.00         8\n",
            "         226       0.00      0.00      0.00         8\n",
            "         227       0.00      0.00      0.00         6\n",
            "         228       0.00      0.00      0.00         7\n",
            "         229       0.00      0.00      0.00         7\n",
            "         230       0.00      0.00      0.00         4\n",
            "         231       0.00      0.00      0.00         3\n",
            "         232       0.00      0.00      0.00         9\n",
            "         233       0.00      0.00      0.00        11\n",
            "         234       0.00      0.00      0.00         8\n",
            "         235       0.00      0.00      0.00         8\n",
            "         236       0.00      0.00      0.00         4\n",
            "         237       0.00      0.00      0.00         2\n",
            "         238       0.00      0.00      0.00         6\n",
            "         239       0.00      0.00      0.00         3\n",
            "         240       0.00      0.00      0.00         6\n",
            "         241       0.00      0.00      0.00         6\n",
            "         242       0.00      0.00      0.00         1\n",
            "         243       0.00      0.00      0.00         4\n",
            "         244       0.00      0.00      0.00         4\n",
            "         245       0.00      0.00      0.00         2\n",
            "         246       0.00      0.00      0.00         3\n",
            "         247       0.00      0.00      0.00         4\n",
            "         248       0.00      0.00      0.00         2\n",
            "         249       0.00      0.00      0.00         3\n",
            "         251       0.00      0.00      0.00         6\n",
            "         252       0.00      0.00      0.00         4\n",
            "         253       0.00      0.00      0.00         3\n",
            "         254       0.00      0.00      0.00         5\n",
            "         255       0.00      0.00      0.00         8\n",
            "         256       0.00      0.00      0.00         3\n",
            "         257       0.00      0.00      0.00         5\n",
            "         258       0.33      0.25      0.29         4\n",
            "         259       0.50      0.14      0.22         7\n",
            "         260       0.00      0.00      0.00         2\n",
            "         261       0.00      0.00      0.00         3\n",
            "         262       0.00      0.00      0.00         6\n",
            "         263       0.00      0.00      0.00         3\n",
            "         264       0.00      0.00      0.00         3\n",
            "         265       0.00      0.00      0.00         5\n",
            "         266       0.00      0.00      0.00         2\n",
            "         267       0.00      0.00      0.00         5\n",
            "         269       0.00      0.00      0.00         5\n",
            "         270       0.00      0.00      0.00         4\n",
            "         271       0.00      0.00      0.00         1\n",
            "         272       0.00      0.00      0.00         3\n",
            "         273       0.00      0.00      0.00         2\n",
            "         274       0.00      0.00      0.00         2\n",
            "         275       0.00      0.00      0.00         1\n",
            "         276       0.00      0.00      0.00         4\n",
            "         277       0.00      0.00      0.00         6\n",
            "         278       0.00      0.00      0.00         3\n",
            "         279       0.00      0.00      0.00         0\n",
            "         281       0.50      0.25      0.33         4\n",
            "         282       0.00      0.00      0.00         5\n",
            "         283       0.00      0.00      0.00         5\n",
            "         284       0.00      0.00      0.00         2\n",
            "         285       0.00      0.00      0.00         1\n",
            "         286       0.00      0.00      0.00         2\n",
            "         287       0.00      0.00      0.00         2\n",
            "         289       0.00      0.00      0.00         0\n",
            "         291       0.00      0.00      0.00         0\n",
            "         292       0.00      0.00      0.00         1\n",
            "         293       0.00      0.00      0.00         1\n",
            "         294       0.00      0.00      0.00         0\n",
            "         295       0.00      0.00      0.00         4\n",
            "         296       0.00      0.00      0.00         1\n",
            "         297       0.00      0.00      0.00         2\n",
            "         298       0.00      0.00      0.00         2\n",
            "         299       0.00      0.00      0.00         1\n",
            "         300       0.00      0.00      0.00         0\n",
            "         301       0.00      0.00      0.00         3\n",
            "         303       0.00      0.00      0.00         1\n",
            "         304       0.00      0.00      0.00         1\n",
            "         306       0.00      0.00      0.00         2\n",
            "         307       0.00      0.00      0.00         0\n",
            "         308       0.00      0.00      0.00         1\n",
            "         309       0.00      0.00      0.00         1\n",
            "         312       0.00      0.00      0.00         0\n",
            "         315       0.00      0.00      0.00         2\n",
            "         317       0.00      0.00      0.00         1\n",
            "         318       0.00      0.00      0.00         2\n",
            "         319       0.00      0.00      0.00         1\n",
            "         320       0.00      0.00      0.00         1\n",
            "         322       0.00      0.00      0.00         3\n",
            "         323       0.00      0.00      0.00         1\n",
            "         324       0.00      0.00      0.00         1\n",
            "         325       0.00      0.00      0.00         1\n",
            "         327       0.00      0.00      0.00         2\n",
            "         328       0.00      0.00      0.00         0\n",
            "         330       0.00      0.00      0.00         0\n",
            "         336       0.00      0.00      0.00         0\n",
            "         338       0.00      0.00      0.00         2\n",
            "         340       0.00      0.00      0.00         1\n",
            "         341       0.00      0.00      0.00         1\n",
            "         342       0.00      0.00      0.00         1\n",
            "         343       0.00      0.00      0.00         2\n",
            "         344       0.00      0.00      0.00         1\n",
            "         347       0.00      0.00      0.00         0\n",
            "         352       0.00      0.00      0.00         2\n",
            "         355       0.00      0.00      0.00         2\n",
            "         359       0.00      0.00      0.00         1\n",
            "         360       0.00      0.00      0.00         1\n",
            "         368       0.00      0.00      0.00         2\n",
            "         370       0.00      0.00      0.00         1\n",
            "         372       0.00      0.00      0.00         1\n",
            "         381       0.00      0.00      0.00         2\n",
            "         384       0.00      0.00      0.00         1\n",
            "         387       0.00      0.00      0.00         1\n",
            "         388       0.00      0.00      0.00         1\n",
            "         390       0.00      0.00      0.00         2\n",
            "         392       0.00      0.00      0.00         1\n",
            "         398       0.00      0.00      0.00         2\n",
            "         399       0.00      0.00      0.00         1\n",
            "         400       0.00      0.00      0.00         1\n",
            "         401       0.00      0.00      0.00         1\n",
            "         403       0.00      0.00      0.00         0\n",
            "         407       0.00      0.00      0.00         1\n",
            "         410       0.00      0.00      0.00         1\n",
            "         416       0.00      0.00      0.00         1\n",
            "         419       0.00      0.00      0.00         1\n",
            "         422       0.00      0.00      0.00         1\n",
            "         424       0.00      0.00      0.00         2\n",
            "         425       0.00      0.00      0.00         2\n",
            "         428       0.00      0.00      0.00         1\n",
            "         432       0.00      0.00      0.00         1\n",
            "         433       0.00      0.00      0.00         0\n",
            "         436       0.00      0.00      0.00         1\n",
            "         450       0.00      0.00      0.00         1\n",
            "         453       0.00      0.00      0.00         1\n",
            "         455       0.00      0.00      0.00         0\n",
            "         460       0.00      0.00      0.00         0\n",
            "         461       0.00      0.00      0.00         1\n",
            "         463       0.00      0.00      0.00         0\n",
            "         468       0.00      0.00      0.00         0\n",
            "         470       0.00      0.00      0.00         1\n",
            "         471       0.00      0.00      0.00         1\n",
            "         473       0.00      0.00      0.00         1\n",
            "         475       0.00      0.00      0.00         0\n",
            "         478       0.00      0.00      0.00         1\n",
            "         479       0.00      0.00      0.00         1\n",
            "         485       0.00      0.00      0.00         1\n",
            "         490       0.00      0.00      0.00         1\n",
            "         510       0.00      0.00      0.00         2\n",
            "\n",
            "    accuracy                           0.08     17058\n",
            "   macro avg       0.05      0.04      0.04     17058\n",
            "weighted avg       0.08      0.08      0.08     17058\n",
            "\n"
          ]
        },
        {
          "output_type": "display_data",
          "data": {
            "text/plain": [
              "<Figure size 640x480 with 2 Axes>"
            ],
            "image/png": "[encoded data removed]"
          },
          "metadata": {}
        }
      ]
    },
    {
      "cell_type": "markdown",
      "source": [
        "# show a few examples"
      ],
      "metadata": {
        "id": "N2U8lJNIzGHR"
      }
    },
    {
      "cell_type": "code",
      "source": [
        "print(val_dataset[0])"
      ],
      "metadata": {
        "id": "HUwhUpGmzHyA",
        "colab": {
          "base_uri": "https://localhost:8080/"
        },
        "executionInfo": {
          "status": "ok",
          "timestamp": 1747637214977,
          "user_tz": -180,
          "elapsed": 369,
          "user": {
            "displayName": "vivian lauren",
            "userId": "06741933639622670164"
          }
        },
        "outputId": "24ec4acf-dede-4ade-81b3-ea55eabdab43"
      },
      "execution_count": null,
      "outputs": [
        {
          "output_type": "stream",
          "name": "stdout",
          "text": [
            "{'input_ids': tensor([  101,  2029,  5088,  2136,  3421,  1996, 10511,  2012,  3565,  4605,\n",
            "         2753,  1029,   102,  3565,  4605,  2753,  2001,  2019,  2137,  2374,\n",
            "         2208,  2000,  5646,  1996,  3410,  1997,  1996,  2120,  2374,  2223,\n",
            "         1006,  5088,  1007,  2005,  1996,  2325,  2161,  1012,  1996,  2137,\n",
            "         2374,  3034,  1006, 10511,  1007,  3410,  7573, 14169,  3249,  1996,\n",
            "         2120,  2374,  3034,  1006, 22309,  1007,  3410,  3792, 12915,  2484,\n",
            "         2050, 30102,  1523,  2184,  2000,  7796,  2037,  2353,  3565,  4605,\n",
            "         2516,  1012,  1996,  2208,  2001,  2209,  2006,  2337,  1021,  1010,\n",
            "         2355,  1010,  2012, 11902,  1005,  1055,  3346,  1999,  1996,  2624,\n",
            "         3799,  3016,  2181,  2012,  4203, 10254,  1010,  2662,  1012,  2004,\n",
            "         2023,  2001,  1996, 12951,  3565,  4605,  1010,  1996,  2223, 13155,\n",
            "         1996,  3585,  5315,  2007,  2536,  2751,  1011, 11773, 11107,  1010,\n",
            "         2004,  2092,  2004,  8184, 28324,  2075,  1996,  4535,  1997, 10324,\n",
            "         2169,  3565,  4605,  2208,  2007,  3142, 16371, 28990,  2015,  1006,\n",
            "         2104,  2029,  1996,  2208,  2052,  2031,  2042,  2124,  2004,  3565,\n",
            "         4605,  1048,  1007,  1010,  2061,  2008,  1996,  8154,  2071, 14500,\n",
            "         3444,  1996,  5640, 16371, 28990,  2015,  2753,  1012,   102,     0,\n",
            "            0,     0,     0,     0,     0,     0,     0,     0,     0,     0,\n",
            "            0,     0,     0,     0,     0,     0,     0,     0,     0,     0,\n",
            "            0,     0,     0,     0,     0,     0,     0,     0,     0,     0,\n",
            "            0,     0,     0,     0,     0,     0,     0,     0,     0,     0,\n",
            "            0,     0,     0,     0,     0,     0,     0,     0,     0,     0,\n",
            "            0,     0,     0,     0,     0,     0,     0,     0,     0,     0,\n",
            "            0,     0,     0,     0,     0,     0,     0,     0,     0,     0,\n",
            "            0,     0,     0,     0,     0,     0,     0,     0,     0,     0,\n",
            "            0,     0,     0,     0,     0,     0,     0,     0,     0,     0,\n",
            "            0,     0,     0,     0,     0,     0,     0,     0,     0,     0,\n",
            "            0,     0,     0,     0,     0,     0,     0,     0,     0,     0,\n",
            "            0,     0,     0,     0,     0,     0,     0,     0,     0,     0,\n",
            "            0,     0,     0,     0,     0,     0,     0,     0,     0,     0,\n",
            "            0,     0,     0,     0,     0,     0,     0,     0,     0,     0,\n",
            "            0,     0,     0,     0,     0,     0,     0,     0,     0,     0,\n",
            "            0,     0,     0,     0,     0,     0,     0,     0,     0,     0,\n",
            "            0,     0,     0,     0,     0,     0,     0,     0,     0,     0,\n",
            "            0,     0,     0,     0,     0,     0,     0,     0,     0,     0,\n",
            "            0,     0,     0,     0,     0,     0,     0,     0,     0,     0,\n",
            "            0,     0,     0,     0,     0,     0,     0,     0,     0,     0,\n",
            "            0,     0,     0,     0,     0,     0,     0,     0,     0,     0,\n",
            "            0,     0,     0,     0,     0,     0,     0,     0,     0,     0,\n",
            "            0,     0,     0,     0,     0,     0,     0,     0,     0,     0,\n",
            "            0,     0,     0,     0,     0,     0,     0,     0,     0,     0,\n",
            "            0,     0,     0,     0,     0,     0,     0,     0,     0,     0,\n",
            "            0,     0,     0,     0,     0,     0,     0,     0,     0,     0,\n",
            "            0,     0,     0,     0,     0,     0,     0,     0,     0,     0,\n",
            "            0,     0,     0,     0,     0,     0,     0,     0,     0,     0,\n",
            "            0,     0,     0,     0,     0,     0,     0,     0,     0,     0,\n",
            "            0,     0,     0,     0,     0,     0,     0,     0,     0,     0,\n",
            "            0,     0,     0,     0,     0,     0,     0,     0,     0,     0,\n",
            "            0,     0,     0,     0,     0,     0,     0,     0,     0,     0,\n",
            "            0,     0,     0,     0,     0,     0,     0,     0,     0,     0,\n",
            "            0,     0,     0,     0,     0,     0,     0,     0,     0,     0,\n",
            "            0,     0]), 'token_type_ids': tensor([0, 0, 0, 0, 0, 0, 0, 0, 0, 0, 0, 0, 0, 1, 1, 1, 1, 1, 1, 1, 1, 1, 1, 1,\n",
            "        1, 1, 1, 1, 1, 1, 1, 1, 1, 1, 1, 1, 1, 1, 1, 1, 1, 1, 1, 1, 1, 1, 1, 1,\n",
            "        1, 1, 1, 1, 1, 1, 1, 1, 1, 1, 1, 1, 1, 1, 1, 1, 1, 1, 1, 1, 1, 1, 1, 1,\n",
            "        1, 1, 1, 1, 1, 1, 1, 1, 1, 1, 1, 1, 1, 1, 1, 1, 1, 1, 1, 1, 1, 1, 1, 1,\n",
            "        1, 1, 1, 1, 1, 1, 1, 1, 1, 1, 1, 1, 1, 1, 1, 1, 1, 1, 1, 1, 1, 1, 1, 1,\n",
            "        1, 1, 1, 1, 1, 1, 1, 1, 1, 1, 1, 1, 1, 1, 1, 1, 1, 1, 1, 1, 1, 1, 1, 1,\n",
            "        1, 1, 1, 1, 1, 1, 1, 1, 1, 1, 1, 1, 1, 1, 1, 1, 1, 1, 1, 1, 1, 1, 1, 1,\n",
            "        1, 0, 0, 0, 0, 0, 0, 0, 0, 0, 0, 0, 0, 0, 0, 0, 0, 0, 0, 0, 0, 0, 0, 0,\n",
            "        0, 0, 0, 0, 0, 0, 0, 0, 0, 0, 0, 0, 0, 0, 0, 0, 0, 0, 0, 0, 0, 0, 0, 0,\n",
            "        0, 0, 0, 0, 0, 0, 0, 0, 0, 0, 0, 0, 0, 0, 0, 0, 0, 0, 0, 0, 0, 0, 0, 0,\n",
            "        0, 0, 0, 0, 0, 0, 0, 0, 0, 0, 0, 0, 0, 0, 0, 0, 0, 0, 0, 0, 0, 0, 0, 0,\n",
            "        0, 0, 0, 0, 0, 0, 0, 0, 0, 0, 0, 0, 0, 0, 0, 0, 0, 0, 0, 0, 0, 0, 0, 0,\n",
            "        0, 0, 0, 0, 0, 0, 0, 0, 0, 0, 0, 0, 0, 0, 0, 0, 0, 0, 0, 0, 0, 0, 0, 0,\n",
            "        0, 0, 0, 0, 0, 0, 0, 0, 0, 0, 0, 0, 0, 0, 0, 0, 0, 0, 0, 0, 0, 0, 0, 0,\n",
            "        0, 0, 0, 0, 0, 0, 0, 0, 0, 0, 0, 0, 0, 0, 0, 0, 0, 0, 0, 0, 0, 0, 0, 0,\n",
            "        0, 0, 0, 0, 0, 0, 0, 0, 0, 0, 0, 0, 0, 0, 0, 0, 0, 0, 0, 0, 0, 0, 0, 0,\n",
            "        0, 0, 0, 0, 0, 0, 0, 0, 0, 0, 0, 0, 0, 0, 0, 0, 0, 0, 0, 0, 0, 0, 0, 0,\n",
            "        0, 0, 0, 0, 0, 0, 0, 0, 0, 0, 0, 0, 0, 0, 0, 0, 0, 0, 0, 0, 0, 0, 0, 0,\n",
            "        0, 0, 0, 0, 0, 0, 0, 0, 0, 0, 0, 0, 0, 0, 0, 0, 0, 0, 0, 0, 0, 0, 0, 0,\n",
            "        0, 0, 0, 0, 0, 0, 0, 0, 0, 0, 0, 0, 0, 0, 0, 0, 0, 0, 0, 0, 0, 0, 0, 0,\n",
            "        0, 0, 0, 0, 0, 0, 0, 0, 0, 0, 0, 0, 0, 0, 0, 0, 0, 0, 0, 0, 0, 0, 0, 0,\n",
            "        0, 0, 0, 0, 0, 0, 0, 0]), 'attention_mask': tensor([1, 1, 1, 1, 1, 1, 1, 1, 1, 1, 1, 1, 1, 1, 1, 1, 1, 1, 1, 1, 1, 1, 1, 1,\n",
            "        1, 1, 1, 1, 1, 1, 1, 1, 1, 1, 1, 1, 1, 1, 1, 1, 1, 1, 1, 1, 1, 1, 1, 1,\n",
            "        1, 1, 1, 1, 1, 1, 1, 1, 1, 1, 1, 1, 1, 1, 1, 1, 1, 1, 1, 1, 1, 1, 1, 1,\n",
            "        1, 1, 1, 1, 1, 1, 1, 1, 1, 1, 1, 1, 1, 1, 1, 1, 1, 1, 1, 1, 1, 1, 1, 1,\n",
            "        1, 1, 1, 1, 1, 1, 1, 1, 1, 1, 1, 1, 1, 1, 1, 1, 1, 1, 1, 1, 1, 1, 1, 1,\n",
            "        1, 1, 1, 1, 1, 1, 1, 1, 1, 1, 1, 1, 1, 1, 1, 1, 1, 1, 1, 1, 1, 1, 1, 1,\n",
            "        1, 1, 1, 1, 1, 1, 1, 1, 1, 1, 1, 1, 1, 1, 1, 1, 1, 1, 1, 1, 1, 1, 1, 1,\n",
            "        1, 0, 0, 0, 0, 0, 0, 0, 0, 0, 0, 0, 0, 0, 0, 0, 0, 0, 0, 0, 0, 0, 0, 0,\n",
            "        0, 0, 0, 0, 0, 0, 0, 0, 0, 0, 0, 0, 0, 0, 0, 0, 0, 0, 0, 0, 0, 0, 0, 0,\n",
            "        0, 0, 0, 0, 0, 0, 0, 0, 0, 0, 0, 0, 0, 0, 0, 0, 0, 0, 0, 0, 0, 0, 0, 0,\n",
            "        0, 0, 0, 0, 0, 0, 0, 0, 0, 0, 0, 0, 0, 0, 0, 0, 0, 0, 0, 0, 0, 0, 0, 0,\n",
            "        0, 0, 0, 0, 0, 0, 0, 0, 0, 0, 0, 0, 0, 0, 0, 0, 0, 0, 0, 0, 0, 0, 0, 0,\n",
            "        0, 0, 0, 0, 0, 0, 0, 0, 0, 0, 0, 0, 0, 0, 0, 0, 0, 0, 0, 0, 0, 0, 0, 0,\n",
            "        0, 0, 0, 0, 0, 0, 0, 0, 0, 0, 0, 0, 0, 0, 0, 0, 0, 0, 0, 0, 0, 0, 0, 0,\n",
            "        0, 0, 0, 0, 0, 0, 0, 0, 0, 0, 0, 0, 0, 0, 0, 0, 0, 0, 0, 0, 0, 0, 0, 0,\n",
            "        0, 0, 0, 0, 0, 0, 0, 0, 0, 0, 0, 0, 0, 0, 0, 0, 0, 0, 0, 0, 0, 0, 0, 0,\n",
            "        0, 0, 0, 0, 0, 0, 0, 0, 0, 0, 0, 0, 0, 0, 0, 0, 0, 0, 0, 0, 0, 0, 0, 0,\n",
            "        0, 0, 0, 0, 0, 0, 0, 0, 0, 0, 0, 0, 0, 0, 0, 0, 0, 0, 0, 0, 0, 0, 0, 0,\n",
            "        0, 0, 0, 0, 0, 0, 0, 0, 0, 0, 0, 0, 0, 0, 0, 0, 0, 0, 0, 0, 0, 0, 0, 0,\n",
            "        0, 0, 0, 0, 0, 0, 0, 0, 0, 0, 0, 0, 0, 0, 0, 0, 0, 0, 0, 0, 0, 0, 0, 0,\n",
            "        0, 0, 0, 0, 0, 0, 0, 0, 0, 0, 0, 0, 0, 0, 0, 0, 0, 0, 0, 0, 0, 0, 0, 0,\n",
            "        0, 0, 0, 0, 0, 0, 0, 0]), 'start_positions': tensor(46), 'end_positions': tensor(47)}\n"
          ]
        }
      ]
    },
    {
      "cell_type": "code",
      "source": [
        "from transformers import AutoTokenizer\n",
        "\n",
        "# Load your tokenizer\n",
        "tokenizer = AutoTokenizer.from_pretrained(model_path)\n",
        "\n",
        "num_examples = min(5, len(preds))\n",
        "\n",
        "for i in range(num_examples):\n",
        "    input_ids = val_dataset[i][\"input_ids\"]\n",
        "    decoded_text = tokenizer.decode(input_ids, skip_special_tokens=True)\n",
        "    true_label = labels[i]\n",
        "    predicted_label = preds[i]\n",
        "    print(f\"Text: {decoded_text}\")\n",
        "    print(f\"True Label: {true_label}, Predicted Label: {predicted_label}\")\n",
        "    print(\"-\"*40)"
      ],
      "metadata": {
        "id": "g5VjNO6KzLyq",
        "colab": {
          "base_uri": "https://localhost:8080/"
        },
        "executionInfo": {
          "status": "ok",
          "timestamp": 1747637219860,
          "user_tz": -180,
          "elapsed": 310,
          "user": {
            "displayName": "vivian lauren",
            "userId": "06741933639622670164"
          }
        },
        "outputId": "05aa85ce-ad54-488a-c08f-788d71f2012f"
      },
      "execution_count": null,
      "outputs": [
        {
          "output_type": "stream",
          "name": "stdout",
          "text": [
            "Text: which nfl team represented the afc at super bowl 50? super bowl 50 was an american football game to determine the champion of the national football league ( nfl ) for the 2015 season. the american football conference ( afc ) champion denver broncos defeated the national football conference ( nfc ) champion carolina panthers 24a\u20ac \u201c 10 to earn their third super bowl title. the game was played on february 7, 2016, at levi ' s stadium in the san francisco bay area at santa clara, california. as this was the 50th super bowl, the league emphasized the golden anniversary with various gold - themed initiatives, as well as temporarily suspending the tradition of naming each super bowl game with roman numerals ( under which the game would have been known as super bowl l ), so that the logo could prominently feature the arabic numerals 50.\n",
            "True Label: [46 57 90 ... 41 78 79], Predicted Label: [54 54 51 ... 32 44 32]\n",
            "----------------------------------------\n",
            "Text: which nfl team represented the nfc at super bowl 50? super bowl 50 was an american football game to determine the champion of the national football league ( nfl ) for the 2015 season. the american football conference ( afc ) champion denver broncos defeated the national football conference ( nfc ) champion carolina panthers 24a\u20ac \u201c 10 to earn their third super bowl title. the game was played on february 7, 2016, at levi ' s stadium in the san francisco bay area at santa clara, california. as this was the 50th super bowl, the league emphasized the golden anniversary with various gold - themed initiatives, as well as temporarily suspending the tradition of naming each super bowl game with roman numerals ( under which the game would have been known as super bowl l ), so that the logo could prominently feature the arabic numerals 50.\n",
            "True Label: [47 58 92 ... 46 78 84], Predicted Label: [47 47 44 ... 25 55 25]\n",
            "----------------------------------------\n"
          ]
        }
      ]
    },
    {
      "cell_type": "markdown",
      "source": [
        "# evaluate on validation set and get metrics"
      ],
      "metadata": {
        "id": "Bkq7suPhnort"
      }
    },
    {
      "cell_type": "code",
      "source": [
        "from transformers import Trainer\n",
        "\n",
        "trainer = Trainer(model=model)\n",
        "\n",
        "# Evaluate on validation set\n",
        "eval_results = trainer.evaluate(eval_dataset=val_dataset)\n",
        "print(\"Validation results:\", eval_results)"
      ],
      "metadata": {
        "id": "0LTTvnwUUmkd",
        "colab": {
          "base_uri": "https://localhost:8080/",
          "height": 56
        },
        "executionInfo": {
          "status": "ok",
          "timestamp": 1748184982645,
          "user_tz": -180,
          "elapsed": 1285,
          "user": {
            "displayName": "vivian lauren",
            "userId": "06741933639622670164"
          }
        },
        "outputId": "d375100e-ce46-4a2e-e74e-b4f84c5fd579"
      },
      "execution_count": null,
      "outputs": [
        {
          "output_type": "display_data",
          "data": {
            "text/plain": [
              "<IPython.core.display.HTML object>"
            ],
            "text/html": [
              "\n",
              "    <div>\n",
              "      \n",
              "      <progress value='13' max='13' style='width:300px; height:20px; vertical-align: middle;'></progress>\n",
              "      [13/13 00:00]\n",
              "    </div>\n",
              "    "
            ]
          },
          "metadata": {}
        },
        {
          "output_type": "stream",
          "name": "stdout",
          "text": [
            "Validation results: {'eval_runtime': 0.1712, 'eval_samples_per_second': 584.076, 'eval_steps_per_second': 75.93}\n"
          ]
        }
      ]
    },
    {
      "cell_type": "markdown",
      "source": [
        "## plot loss per epoch"
      ],
      "metadata": {
        "id": "TMZoMuvHnvGq"
      }
    },
    {
      "cell_type": "code",
      "source": [
        "# Simulated training/validation loss per epoch for example\n",
        "train_loss = [0.65, 0.45, 0.30]\n",
        "val_loss = [0.60, 0.50, 0.40]\n",
        "epochs = list(range(1, len(train_loss) + 1))\n",
        "\n",
        "import matplotlib.pyplot as plt\n",
        "\n",
        "plt.plot(epochs, train_loss, label='Training Loss')\n",
        "plt.plot(epochs, val_loss, label='Validation Loss')\n",
        "plt.xlabel(\"Epoch\")\n",
        "plt.ylabel(\"Loss\")\n",
        "plt.title(\"Training vs. Validation Loss\")\n",
        "plt.legend()\n",
        "plt.grid(True)\n",
        "plt.show()"
      ],
      "metadata": {
        "id": "UDIVd44untKj",
        "colab": {
          "base_uri": "https://localhost:8080/",
          "height": 472
        },
        "executionInfo": {
          "status": "ok",
          "timestamp": 1748184986151,
          "user_tz": -180,
          "elapsed": 572,
          "user": {
            "displayName": "vivian lauren",
            "userId": "06741933639622670164"
          }
        },
        "outputId": "a90d4c35-c1d1-4a24-b1ec-5efaf5209da9"
      },
      "execution_count": null,
      "outputs": [
        {
          "output_type": "display_data",
          "data": {
            "text/plain": [
              "<Figure size 640x480 with 1 Axes>"
            ],
            "image/png": "[encoded data removed]"
          },
          "metadata": {}
        }
      ]
    },
    {
      "cell_type": "code",
      "source": [
        "from sklearn.metrics import accuracy_score, f1_score\n",
        "\n",
        "def compute_metrics(eval_pred):\n",
        "    logits, labels = eval_pred\n",
        "    preds = np.argmax(logits, axis=1)\n",
        "    acc = accuracy_score(labels, preds)\n",
        "    f1 = f1_score(labels, preds, average=\"weighted\")  # change average to \"macro\" or \"micro\" if preferred\n",
        "    return {\"accuracy\": acc, \"f1\": f1}"
      ],
      "metadata": {
        "id": "LWzeXWMRnzol"
      },
      "execution_count": null,
      "outputs": []
    },
    {
      "cell_type": "code",
      "source": [
        "from transformers import Trainer, TrainingArguments, AutoModelForSequenceClassification\n",
        "\n",
        "training_args = TrainingArguments(\n",
        "    output_dir = \"/content/drive/MyDrive/nlp project/distil_model_wandb\",\n",
        "    per_device_eval_batch_size = 8,\n",
        "    logging_dir = \"./logs\",\n",
        "    do_train=False,\n",
        "    do_eval = True,\n",
        "    report_to = \"none\"\n",
        ")\n",
        "\n",
        "# Load model\n",
        "model = AutoModelForSequenceClassification.from_pretrained(model_path)\n",
        "\n",
        "trainer = Trainer(\n",
        "    model=model,\n",
        "    args=training_args,\n",
        "    train_dataset=train_dataset,\n",
        "    eval_dataset=val_dataset,\n",
        "    compute_metrics=compute_metrics  # if defined\n",
        ")\n",
        "\n",
        "eval_results = trainer.evaluate()\n",
        "print(\"Evaluatation results:\", eval_results)\n",
        "\n",
        "# Train model\n",
        "# trainer.train()\n",
        "\n"
      ],
      "metadata": {
        "id": "W3tZbSeKnziu"
      },
      "execution_count": null,
      "outputs": []
    },
    {
      "cell_type": "code",
      "source": [
        "import pprint\n",
        "pprint.pprint(trainer.state.log_history)"
      ],
      "metadata": {
        "id": "w1txKDY1oAo5",
        "colab": {
          "base_uri": "https://localhost:8080/"
        },
        "executionInfo": {
          "status": "ok",
          "timestamp": 1748184996735,
          "user_tz": -180,
          "elapsed": 393,
          "user": {
            "displayName": "vivian lauren",
            "userId": "06741933639622670164"
          }
        },
        "outputId": "980fcc0c-2335-4355-e9f3-e65631a5379e"
      },
      "execution_count": null,
      "outputs": [
        {
          "output_type": "stream",
          "name": "stdout",
          "text": [
            "[{'eval_runtime': 0.1712,\n",
            "  'eval_samples_per_second': 584.076,\n",
            "  'eval_steps_per_second': 75.93,\n",
            "  'step': 0}]\n"
          ]
        }
      ]
    },
    {
      "cell_type": "code",
      "source": [
        "# Extract logged history\n",
        "history = trainer.state.log_history\n",
        "\n",
        "# Separate out train/val loss per epoch\n",
        "train_loss = [entry[\"loss\"] for entry in history if \"loss\" in entry and \"epoch\" in entry]\n",
        "val_loss = [entry[\"eval_loss\"] for entry in history if \"eval_loss\" in entry and \"epoch\" in entry]\n",
        "epochs = [entry[\"epoch\"] for entry in history if \"eval_loss\" in entry]\n",
        "\n",
        "# Plot\n",
        "import matplotlib.pyplot as plt\n",
        "\n",
        "plt.plot(epochs, train_loss, label=\"Training Loss\")\n",
        "plt.plot(epochs, val_loss, label=\"Validation Loss\")\n",
        "plt.xlabel(\"Epoch\")\n",
        "plt.ylabel(\"Loss\")\n",
        "plt.title(\"Training vs. Validation Loss\")\n",
        "plt.legend()\n",
        "plt.grid(True)\n",
        "plt.show()"
      ],
      "metadata": {
        "id": "4J12Td1AoAlk",
        "colab": {
          "base_uri": "https://localhost:8080/",
          "height": 472
        },
        "executionInfo": {
          "status": "ok",
          "timestamp": 1748185000370,
          "user_tz": -180,
          "elapsed": 433,
          "user": {
            "displayName": "vivian lauren",
            "userId": "06741933639622670164"
          }
        },
        "outputId": "86e7c339-80af-4898-fae6-0261dd99d2e6"
      },
      "execution_count": null,
      "outputs": [
        {
          "output_type": "display_data",
          "data": {
            "text/plain": [
              "<Figure size 640x480 with 1 Axes>"
            ],
            "image/png": "[encoded data removed]"
          },
          "metadata": {}
        }
      ]
    },
    {
      "cell_type": "code",
      "source": [
        "import os\n",
        "\n",
        "folder_path = '/content/drive/MyDrive/nlp project'\n",
        "for file in os.listdir(folder_path):\n",
        "    print(file)\n"
      ],
      "metadata": {
        "colab": {
          "base_uri": "https://localhost:8080/"
        },
        "id": "hjOuyJs3xl8A",
        "executionInfo": {
          "status": "ok",
          "timestamp": 1748651894902,
          "user_tz": -180,
          "elapsed": 16,
          "user": {
            "displayName": "vivian lauren",
            "userId": "06741933639622670164"
          }
        },
        "outputId": "495da9ce-91e5-4221-8730-dd9c740ad531"
      },
      "execution_count": 33,
      "outputs": [
        {
          "output_type": "stream",
          "name": "stdout",
          "text": [
            "squad_val.csv\n",
            "squad_train_fil.csv\n",
            "df1.pkl\n",
            "df2.pkl\n",
            "final_model\n",
            "final_model_distil\n",
            "distil_checkpoints\n",
            "bert_model_wandb\n",
            "squad_train_fil.gsheet\n",
            "test_squad.csv\n",
            "df3.pkl\n",
            "distil_model_wandb\n",
            "nlp project, bert-base-uncased.ipynb\n",
            "nlp project distilbert-base-uncased\n"
          ]
        }
      ]
    },
    {
      "cell_type": "code",
      "source": [
        "import json\n",
        "\n",
        "# Replace with your file path\n",
        "notebook_path = '/content/drive/MyDrive/nlp project/nlp project distilbert-base-uncased'\n",
        "cleaned_path = '/content/drive/MyDrive/nlp project/nlp project distilbert-base-uncased_cleaned'\n",
        "\n",
        "# Load notebook JSON\n",
        "with open(notebook_path, 'r', encoding='utf-8') as f:\n",
        "    nb = json.load(f)\n",
        "\n",
        "# Remove problematic metadata\n",
        "if 'metadata' in nb:\n",
        "    nb['metadata'].pop('widgets', None)\n",
        "    for cell in nb.get('cells', []):\n",
        "        if 'metadata' in cell and 'widgets' in cell['metadata']:\n",
        "            del cell['metadata']['widgets']\n",
        "\n",
        "# Save cleaned version\n",
        "with open(cleaned_path, 'w', encoding='utf-8') as f:\n",
        "    json.dump(nb, f, indent=2)\n",
        "\n",
        "print(\"Cleaned notebook saved as:\", cleaned_path)\n"
      ],
      "metadata": {
        "colab": {
          "base_uri": "https://localhost:8080/"
        },
        "id": "s6A8HuOKuwg9",
        "executionInfo": {
          "status": "ok",
          "timestamp": 1748651927374,
          "user_tz": -180,
          "elapsed": 957,
          "user": {
            "displayName": "vivian lauren",
            "userId": "06741933639622670164"
          }
        },
        "outputId": "a734d011-c675-4132-9122-d2b44837c2af"
      },
      "execution_count": 34,
      "outputs": [
        {
          "output_type": "stream",
          "name": "stdout",
          "text": [
            "Cleaned notebook saved as: /content/drive/MyDrive/nlp project/nlp project distilbert-base-uncased_cleaned\n"
          ]
        }
      ]
    },
    {
      "cell_type": "code",
      "source": [],
      "metadata": {
        "id": "9MZfKtWbu3gY"
      },
      "execution_count": null,
      "outputs": []
    }
  ]
}